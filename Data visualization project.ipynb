{
 "cells": [
  {
   "cell_type": "markdown",
   "metadata": {},
   "source": [
    "# (Dataset Exploration)\n",
    "## by (Raymond Tsang)\n",
    "\n",
    "## Preliminary Wrangling\n",
    "\n",
    "\n",
    "This dataset was obtained from kaggle.com. https://www.kaggle.com/spscientist/students-performance-in-exams It's about students' test performance on math, reading and writing."
   ]
  },
  {
   "cell_type": "code",
   "execution_count": 2,
   "metadata": {},
   "outputs": [],
   "source": [
    "# import all packages and set plots to be embedded inline\n",
    "import numpy as np\n",
    "import pandas as pd\n",
    "import matplotlib.pyplot as plt\n",
    "import seaborn as sb\n",
    "import warnings\n",
    "warnings.filterwarnings('ignore') # not show all code output warning\n",
    "%matplotlib inline"
   ]
  },
  {
   "cell_type": "markdown",
   "metadata": {},
   "source": [
    "> Load in your dataset and describe its properties through the questions below.\n",
    "Try and motivate your exploration goals through this section."
   ]
  },
  {
   "cell_type": "code",
   "execution_count": 10,
   "metadata": {},
   "outputs": [],
   "source": [
    "df=pd.read_csv(\"StudentsPerformance.csv\")"
   ]
  },
  {
   "cell_type": "code",
   "execution_count": 11,
   "metadata": {},
   "outputs": [
    {
     "data": {
      "text/html": [
       "<div>\n",
       "<style scoped>\n",
       "    .dataframe tbody tr th:only-of-type {\n",
       "        vertical-align: middle;\n",
       "    }\n",
       "\n",
       "    .dataframe tbody tr th {\n",
       "        vertical-align: top;\n",
       "    }\n",
       "\n",
       "    .dataframe thead th {\n",
       "        text-align: right;\n",
       "    }\n",
       "</style>\n",
       "<table border=\"1\" class=\"dataframe\">\n",
       "  <thead>\n",
       "    <tr style=\"text-align: right;\">\n",
       "      <th></th>\n",
       "      <th>gender</th>\n",
       "      <th>race/ethnicity</th>\n",
       "      <th>parental level of education</th>\n",
       "      <th>lunch</th>\n",
       "      <th>test preparation course</th>\n",
       "      <th>math score</th>\n",
       "      <th>reading score</th>\n",
       "      <th>writing score</th>\n",
       "    </tr>\n",
       "  </thead>\n",
       "  <tbody>\n",
       "    <tr>\n",
       "      <th>0</th>\n",
       "      <td>female</td>\n",
       "      <td>group B</td>\n",
       "      <td>bachelor's degree</td>\n",
       "      <td>standard</td>\n",
       "      <td>none</td>\n",
       "      <td>72</td>\n",
       "      <td>72</td>\n",
       "      <td>74</td>\n",
       "    </tr>\n",
       "    <tr>\n",
       "      <th>1</th>\n",
       "      <td>female</td>\n",
       "      <td>group C</td>\n",
       "      <td>some college</td>\n",
       "      <td>standard</td>\n",
       "      <td>completed</td>\n",
       "      <td>69</td>\n",
       "      <td>90</td>\n",
       "      <td>88</td>\n",
       "    </tr>\n",
       "    <tr>\n",
       "      <th>2</th>\n",
       "      <td>female</td>\n",
       "      <td>group B</td>\n",
       "      <td>master's degree</td>\n",
       "      <td>standard</td>\n",
       "      <td>none</td>\n",
       "      <td>90</td>\n",
       "      <td>95</td>\n",
       "      <td>93</td>\n",
       "    </tr>\n",
       "    <tr>\n",
       "      <th>3</th>\n",
       "      <td>male</td>\n",
       "      <td>group A</td>\n",
       "      <td>associate's degree</td>\n",
       "      <td>free/reduced</td>\n",
       "      <td>none</td>\n",
       "      <td>47</td>\n",
       "      <td>57</td>\n",
       "      <td>44</td>\n",
       "    </tr>\n",
       "    <tr>\n",
       "      <th>4</th>\n",
       "      <td>male</td>\n",
       "      <td>group C</td>\n",
       "      <td>some college</td>\n",
       "      <td>standard</td>\n",
       "      <td>none</td>\n",
       "      <td>76</td>\n",
       "      <td>78</td>\n",
       "      <td>75</td>\n",
       "    </tr>\n",
       "  </tbody>\n",
       "</table>\n",
       "</div>"
      ],
      "text/plain": [
       "   gender race/ethnicity parental level of education         lunch  \\\n",
       "0  female        group B           bachelor's degree      standard   \n",
       "1  female        group C                some college      standard   \n",
       "2  female        group B             master's degree      standard   \n",
       "3    male        group A          associate's degree  free/reduced   \n",
       "4    male        group C                some college      standard   \n",
       "\n",
       "  test preparation course  math score  reading score  writing score  \n",
       "0                    none          72             72             74  \n",
       "1               completed          69             90             88  \n",
       "2                    none          90             95             93  \n",
       "3                    none          47             57             44  \n",
       "4                    none          76             78             75  "
      ]
     },
     "execution_count": 11,
     "metadata": {},
     "output_type": "execute_result"
    }
   ],
   "source": [
    "df.head()"
   ]
  },
  {
   "cell_type": "markdown",
   "metadata": {},
   "source": [
    "checking for missing data"
   ]
  },
  {
   "cell_type": "code",
   "execution_count": 12,
   "metadata": {},
   "outputs": [
    {
     "data": {
      "text/plain": [
       "False"
      ]
     },
     "execution_count": 12,
     "metadata": {},
     "output_type": "execute_result"
    }
   ],
   "source": [
    "df.isnull().any().any() "
   ]
  },
  {
   "cell_type": "markdown",
   "metadata": {},
   "source": [
    "I rename some column names because some of them longer than others. Also it's much easier to code."
   ]
  },
  {
   "cell_type": "code",
   "execution_count": 29,
   "metadata": {},
   "outputs": [],
   "source": [
    "df.rename(columns={'race/ethnicity':'ethn_groups',\n",
    "                          'parental level of education':'educations',\n",
    "                          'test preparation course':'test_prep',\n",
    "                          'math score':'math',\n",
    "                          'reading score':'reading',\n",
    "                          'writing score':'writing'},inplace=True) \n",
    "                "
   ]
  },
  {
   "cell_type": "code",
   "execution_count": 30,
   "metadata": {},
   "outputs": [
    {
     "data": {
      "text/html": [
       "<div>\n",
       "<style scoped>\n",
       "    .dataframe tbody tr th:only-of-type {\n",
       "        vertical-align: middle;\n",
       "    }\n",
       "\n",
       "    .dataframe tbody tr th {\n",
       "        vertical-align: top;\n",
       "    }\n",
       "\n",
       "    .dataframe thead th {\n",
       "        text-align: right;\n",
       "    }\n",
       "</style>\n",
       "<table border=\"1\" class=\"dataframe\">\n",
       "  <thead>\n",
       "    <tr style=\"text-align: right;\">\n",
       "      <th></th>\n",
       "      <th>gender</th>\n",
       "      <th>ethn_groups</th>\n",
       "      <th>educations</th>\n",
       "      <th>lunch</th>\n",
       "      <th>test_prep</th>\n",
       "      <th>math</th>\n",
       "      <th>reading</th>\n",
       "      <th>writing</th>\n",
       "    </tr>\n",
       "  </thead>\n",
       "  <tbody>\n",
       "    <tr>\n",
       "      <th>0</th>\n",
       "      <td>female</td>\n",
       "      <td>group B</td>\n",
       "      <td>bachelor's degree</td>\n",
       "      <td>standard</td>\n",
       "      <td>none</td>\n",
       "      <td>72</td>\n",
       "      <td>72</td>\n",
       "      <td>74</td>\n",
       "    </tr>\n",
       "    <tr>\n",
       "      <th>1</th>\n",
       "      <td>female</td>\n",
       "      <td>group C</td>\n",
       "      <td>some college</td>\n",
       "      <td>standard</td>\n",
       "      <td>completed</td>\n",
       "      <td>69</td>\n",
       "      <td>90</td>\n",
       "      <td>88</td>\n",
       "    </tr>\n",
       "    <tr>\n",
       "      <th>2</th>\n",
       "      <td>female</td>\n",
       "      <td>group B</td>\n",
       "      <td>master's degree</td>\n",
       "      <td>standard</td>\n",
       "      <td>none</td>\n",
       "      <td>90</td>\n",
       "      <td>95</td>\n",
       "      <td>93</td>\n",
       "    </tr>\n",
       "    <tr>\n",
       "      <th>3</th>\n",
       "      <td>male</td>\n",
       "      <td>group A</td>\n",
       "      <td>associate's degree</td>\n",
       "      <td>free/reduced</td>\n",
       "      <td>none</td>\n",
       "      <td>47</td>\n",
       "      <td>57</td>\n",
       "      <td>44</td>\n",
       "    </tr>\n",
       "    <tr>\n",
       "      <th>4</th>\n",
       "      <td>male</td>\n",
       "      <td>group C</td>\n",
       "      <td>some college</td>\n",
       "      <td>standard</td>\n",
       "      <td>none</td>\n",
       "      <td>76</td>\n",
       "      <td>78</td>\n",
       "      <td>75</td>\n",
       "    </tr>\n",
       "  </tbody>\n",
       "</table>\n",
       "</div>"
      ],
      "text/plain": [
       "   gender ethn_groups          educations         lunch  test_prep  math  \\\n",
       "0  female     group B   bachelor's degree      standard       none    72   \n",
       "1  female     group C        some college      standard  completed    69   \n",
       "2  female     group B     master's degree      standard       none    90   \n",
       "3    male     group A  associate's degree  free/reduced       none    47   \n",
       "4    male     group C        some college      standard       none    76   \n",
       "\n",
       "   reading  writing  \n",
       "0       72       74  \n",
       "1       90       88  \n",
       "2       95       93  \n",
       "3       57       44  \n",
       "4       78       75  "
      ]
     },
     "execution_count": 30,
     "metadata": {},
     "output_type": "execute_result"
    }
   ],
   "source": [
    "df.head()"
   ]
  },
  {
   "cell_type": "markdown",
   "metadata": {},
   "source": [
    "There are all lower case, I have to capitalize first letter of words."
   ]
  },
  {
   "cell_type": "code",
   "execution_count": 31,
   "metadata": {},
   "outputs": [],
   "source": [
    "# Use function to capitalize all first letter of word\n",
    "def Cap(a):\n",
    "    return a.str.title()\n",
    "df[['gender','ethn_groups','lunch','test_prep']]=df[['gender','ethn_groups','lunch','test_prep']].apply(Cap)"
   ]
  },
  {
   "cell_type": "code",
   "execution_count": 33,
   "metadata": {},
   "outputs": [],
   "source": [
    "# This code used for capitalize first letter word except 's\n",
    "import string \n",
    "df['educations'] = df['educations'].apply(lambda x: string.capwords(x))"
   ]
  },
  {
   "cell_type": "markdown",
   "metadata": {},
   "source": [
    "    PART II\n",
    "Save clean data."
   ]
  },
  {
   "cell_type": "code",
   "execution_count": 7,
   "metadata": {},
   "outputs": [],
   "source": [
    "df.to_csv(\"StudentsPerformance_clean.csv\",index=False)  # save clean dataset"
   ]
  },
  {
   "cell_type": "code",
   "execution_count": 3,
   "metadata": {},
   "outputs": [],
   "source": [
    "df=pd.read_csv(\"StudentsPerformance_clean.csv\")"
   ]
  },
  {
   "cell_type": "code",
   "execution_count": 3,
   "metadata": {},
   "outputs": [
    {
     "data": {
      "text/html": [
       "<div>\n",
       "<style scoped>\n",
       "    .dataframe tbody tr th:only-of-type {\n",
       "        vertical-align: middle;\n",
       "    }\n",
       "\n",
       "    .dataframe tbody tr th {\n",
       "        vertical-align: top;\n",
       "    }\n",
       "\n",
       "    .dataframe thead th {\n",
       "        text-align: right;\n",
       "    }\n",
       "</style>\n",
       "<table border=\"1\" class=\"dataframe\">\n",
       "  <thead>\n",
       "    <tr style=\"text-align: right;\">\n",
       "      <th></th>\n",
       "      <th>gender</th>\n",
       "      <th>ethn_groups</th>\n",
       "      <th>educations</th>\n",
       "      <th>lunch</th>\n",
       "      <th>test_prep</th>\n",
       "      <th>math</th>\n",
       "      <th>reading</th>\n",
       "      <th>writing</th>\n",
       "    </tr>\n",
       "  </thead>\n",
       "  <tbody>\n",
       "    <tr>\n",
       "      <th>780</th>\n",
       "      <td>Female</td>\n",
       "      <td>Group D</td>\n",
       "      <td>Associate's Degree</td>\n",
       "      <td>Free/Reduced</td>\n",
       "      <td>None</td>\n",
       "      <td>46</td>\n",
       "      <td>56</td>\n",
       "      <td>57</td>\n",
       "    </tr>\n",
       "    <tr>\n",
       "      <th>689</th>\n",
       "      <td>Male</td>\n",
       "      <td>Group E</td>\n",
       "      <td>Some College</td>\n",
       "      <td>Free/Reduced</td>\n",
       "      <td>None</td>\n",
       "      <td>93</td>\n",
       "      <td>90</td>\n",
       "      <td>83</td>\n",
       "    </tr>\n",
       "    <tr>\n",
       "      <th>397</th>\n",
       "      <td>Female</td>\n",
       "      <td>Group C</td>\n",
       "      <td>Associate's Degree</td>\n",
       "      <td>Standard</td>\n",
       "      <td>None</td>\n",
       "      <td>85</td>\n",
       "      <td>89</td>\n",
       "      <td>95</td>\n",
       "    </tr>\n",
       "    <tr>\n",
       "      <th>116</th>\n",
       "      <td>Female</td>\n",
       "      <td>Group B</td>\n",
       "      <td>Bachelor's Degree</td>\n",
       "      <td>Free/Reduced</td>\n",
       "      <td>None</td>\n",
       "      <td>75</td>\n",
       "      <td>85</td>\n",
       "      <td>82</td>\n",
       "    </tr>\n",
       "    <tr>\n",
       "      <th>1</th>\n",
       "      <td>Female</td>\n",
       "      <td>Group C</td>\n",
       "      <td>Some College</td>\n",
       "      <td>Standard</td>\n",
       "      <td>Completed</td>\n",
       "      <td>69</td>\n",
       "      <td>90</td>\n",
       "      <td>88</td>\n",
       "    </tr>\n",
       "  </tbody>\n",
       "</table>\n",
       "</div>"
      ],
      "text/plain": [
       "     gender ethn_groups          educations         lunch  test_prep  math  \\\n",
       "780  Female     Group D  Associate's Degree  Free/Reduced       None    46   \n",
       "689    Male     Group E        Some College  Free/Reduced       None    93   \n",
       "397  Female     Group C  Associate's Degree      Standard       None    85   \n",
       "116  Female     Group B   Bachelor's Degree  Free/Reduced       None    75   \n",
       "1    Female     Group C        Some College      Standard  Completed    69   \n",
       "\n",
       "     reading  writing  \n",
       "780       56       57  \n",
       "689       90       83  \n",
       "397       89       95  \n",
       "116       85       82  \n",
       "1         90       88  "
      ]
     },
     "execution_count": 3,
     "metadata": {},
     "output_type": "execute_result"
    }
   ],
   "source": [
    "df.sample(5)"
   ]
  },
  {
   "cell_type": "markdown",
   "metadata": {},
   "source": [
    "Re-arrange categorical variables"
   ]
  },
  {
   "cell_type": "code",
   "execution_count": 4,
   "metadata": {},
   "outputs": [],
   "source": [
    "education = ['Some High School','High School','Some College',\"Associate's Degree\",\"Bachelor's Degree\",\"Master's Degree\"]\n",
    "pd_ver = pd.__version__.split(\".\")\n",
    "if (int(pd_ver[0]) > 0) or (int(pd_ver[1]) >= 21): # v0.21 or later\n",
    "        edu = pd.api.types.CategoricalDtype(ordered = True, categories = education)\n",
    "        df['educations'] = df['educations'].astype(edu)\n",
    "else: # compatibility for v.20\n",
    "        df['educations'] = df['educations'].astype('category', ordered = True,\n",
    "                                                         categories = education)"
   ]
  },
  {
   "cell_type": "code",
   "execution_count": 38,
   "metadata": {},
   "outputs": [],
   "source": []
  },
  {
   "cell_type": "markdown",
   "metadata": {},
   "source": [
    "### What is the structure of your dataset?\n",
    "\n",
    ">This dataset consists of 3 test scores performed by students who are female and male, their levels of education and whether they took test preparation courses or not. Mainly if their scores influence by their education backgroups or/and test preparation. \n",
    "\n",
    "### What is/are the main feature(s) of interest in your dataset?\n",
    "\n",
    "> Which gender has higher education and test score\n",
    "\n",
    "### What features in the dataset do you think will help support your investigation into your feature(s) of interest?\n",
    ">I will pick test preparation courses to support my additional finding"
   ]
  },
  {
   "cell_type": "markdown",
   "metadata": {},
   "source": [
    "## Univariate Exploration\n",
    "\n",
    "> In this section, investigate distributions of individual variables. If\n",
    "you see unusual points or outliers, take a deeper look to clean things up\n",
    "and prepare yourself to look at relationships between variables."
   ]
  },
  {
   "cell_type": "code",
   "execution_count": 17,
   "metadata": {},
   "outputs": [
    {
     "data": {
      "text/html": [
       "<div>\n",
       "<style scoped>\n",
       "    .dataframe tbody tr th:only-of-type {\n",
       "        vertical-align: middle;\n",
       "    }\n",
       "\n",
       "    .dataframe tbody tr th {\n",
       "        vertical-align: top;\n",
       "    }\n",
       "\n",
       "    .dataframe thead th {\n",
       "        text-align: right;\n",
       "    }\n",
       "</style>\n",
       "<table border=\"1\" class=\"dataframe\">\n",
       "  <thead>\n",
       "    <tr style=\"text-align: right;\">\n",
       "      <th></th>\n",
       "      <th>math</th>\n",
       "      <th>reading</th>\n",
       "      <th>writing</th>\n",
       "    </tr>\n",
       "  </thead>\n",
       "  <tbody>\n",
       "    <tr>\n",
       "      <th>count</th>\n",
       "      <td>1000.00000</td>\n",
       "      <td>1000.000000</td>\n",
       "      <td>1000.000000</td>\n",
       "    </tr>\n",
       "    <tr>\n",
       "      <th>mean</th>\n",
       "      <td>66.08900</td>\n",
       "      <td>69.169000</td>\n",
       "      <td>68.054000</td>\n",
       "    </tr>\n",
       "    <tr>\n",
       "      <th>std</th>\n",
       "      <td>15.16308</td>\n",
       "      <td>14.600192</td>\n",
       "      <td>15.195657</td>\n",
       "    </tr>\n",
       "    <tr>\n",
       "      <th>min</th>\n",
       "      <td>0.00000</td>\n",
       "      <td>17.000000</td>\n",
       "      <td>10.000000</td>\n",
       "    </tr>\n",
       "    <tr>\n",
       "      <th>25%</th>\n",
       "      <td>57.00000</td>\n",
       "      <td>59.000000</td>\n",
       "      <td>57.750000</td>\n",
       "    </tr>\n",
       "    <tr>\n",
       "      <th>50%</th>\n",
       "      <td>66.00000</td>\n",
       "      <td>70.000000</td>\n",
       "      <td>69.000000</td>\n",
       "    </tr>\n",
       "    <tr>\n",
       "      <th>75%</th>\n",
       "      <td>77.00000</td>\n",
       "      <td>79.000000</td>\n",
       "      <td>79.000000</td>\n",
       "    </tr>\n",
       "    <tr>\n",
       "      <th>max</th>\n",
       "      <td>100.00000</td>\n",
       "      <td>100.000000</td>\n",
       "      <td>100.000000</td>\n",
       "    </tr>\n",
       "  </tbody>\n",
       "</table>\n",
       "</div>"
      ],
      "text/plain": [
       "             math      reading      writing\n",
       "count  1000.00000  1000.000000  1000.000000\n",
       "mean     66.08900    69.169000    68.054000\n",
       "std      15.16308    14.600192    15.195657\n",
       "min       0.00000    17.000000    10.000000\n",
       "25%      57.00000    59.000000    57.750000\n",
       "50%      66.00000    70.000000    69.000000\n",
       "75%      77.00000    79.000000    79.000000\n",
       "max     100.00000   100.000000   100.000000"
      ]
     },
     "execution_count": 17,
     "metadata": {},
     "output_type": "execute_result"
    }
   ],
   "source": [
    "df[['math','reading','writing']].describe() # get basic statistic information"
   ]
  },
  {
   "cell_type": "markdown",
   "metadata": {},
   "source": [
    "> Make sure that, after every plot or related series of plots, that you\n",
    "include a Markdown cell with comments about what you observed, and what\n",
    "you plan on investigating next."
   ]
  },
  {
   "cell_type": "markdown",
   "metadata": {},
   "source": [
    "Find out how many students have their college degrees and not"
   ]
  },
  {
   "cell_type": "code",
   "execution_count": 4,
   "metadata": {},
   "outputs": [
    {
     "data": {
      "image/png": "[encoded data removed]",
      "text/plain": [
       "<matplotlib.figure.Figure at 0x1bf2d890d68>"
      ]
     },
     "metadata": {},
     "output_type": "display_data"
    }
   ],
   "source": [
    "a=df['educations'].value_counts() # summarize all number of education\n",
    "plt.pie(data=df,x=a,autopct='%1.0f%%', labels=a.index,startangle=90) # add percentage in pie for each categgory\n",
    "plt.title(\"Percentage of Student Education\")  # Add title\n",
    "plt.show()"
   ]
  },
  {
   "cell_type": "markdown",
   "metadata": {},
   "source": [
    "This chart shows most of test takers have only some college and associate degrees. Small percentage is master degree."
   ]
  },
  {
   "cell_type": "markdown",
   "metadata": {},
   "source": []
  },
  {
   "cell_type": "code",
   "execution_count": null,
   "metadata": {},
   "outputs": [],
   "source": []
  },
  {
   "cell_type": "markdown",
   "metadata": {},
   "source": []
  },
  {
   "cell_type": "markdown",
   "metadata": {},
   "source": [
    "I use basic histgram chart to find out which type of distribution for math, reading and writing."
   ]
  },
  {
   "cell_type": "code",
   "execution_count": 9,
   "metadata": {},
   "outputs": [
    {
     "data": {
      "image/png": "[encoded data removed]",
      "text/plain": [
       "<matplotlib.figure.Figure at 0x1bf2c6223c8>"
      ]
     },
     "metadata": {},
     "output_type": "display_data"
    }
   ],
   "source": [
    "plt.figure(figsize=[15,3]) # add chart size\n",
    "plt.subplot(1,3,1) # add sub-plot\n",
    "\n",
    "plt.hist(data=df,x=\"math\")\n",
    "plt.title(\"Math\")\n",
    "plt.xlabel(\"Math Score\")\n",
    "\n",
    "plt.subplot(1,3,2)\n",
    "plt.hist(data=df,x=\"reading\")\n",
    "plt.xlabel(\"Reading Score\")\n",
    "plt.title(\"Reading\")\n",
    "\n",
    "plt.subplot(1,3,3)\n",
    "plt.hist(data=df,x=\"writing\")\n",
    "plt.xlabel(\"Writing Score\")\n",
    "plt.title(\"Writing\")\n",
    "plt.show()"
   ]
  },
  {
   "cell_type": "markdown",
   "metadata": {},
   "source": [
    "All three variables have normal distributions, their each mean around between 60s to 70s."
   ]
  },
  {
   "cell_type": "markdown",
   "metadata": {},
   "source": [
    "### Discuss the distribution(s) of your variable(s) of interest. Were there any unusual points? Did you need to perform any transformations?\n",
    "\n",
    "> All three test scores are normal distribution. Their means are in upper 60s. I don't think I need any transformation.\n",
    "\n",
    "### Of the features you investigated, were there any unusual distributions? Did you perform any operations on the data to tidy, adjust, or change the form of the data? If so, why did you do this?\n",
    "\n",
    "> No major changes have been done. But I renamed some column names and capitalized first letter. Also rearranged categorical variables in orders."
   ]
  },
  {
   "cell_type": "markdown",
   "metadata": {},
   "source": [
    "## Bivariate Exploration\n",
    "\n",
    "> In this section, investigate relationships between pairs of variables in your\n",
    "data. Make sure the variables that you cover here have been introduced in some\n",
    "fashion in the previous section (univariate exploration)."
   ]
  },
  {
   "cell_type": "markdown",
   "metadata": {},
   "source": [
    "Let's investigate relationship between levels of education & test scores"
   ]
  },
  {
   "cell_type": "code",
   "execution_count": 91,
   "metadata": {},
   "outputs": [
    {
     "data": {
      "text/html": [
       "<div>\n",
       "<style scoped>\n",
       "    .dataframe tbody tr th:only-of-type {\n",
       "        vertical-align: middle;\n",
       "    }\n",
       "\n",
       "    .dataframe tbody tr th {\n",
       "        vertical-align: top;\n",
       "    }\n",
       "\n",
       "    .dataframe thead th {\n",
       "        text-align: right;\n",
       "    }\n",
       "</style>\n",
       "<table border=\"1\" class=\"dataframe\">\n",
       "  <thead>\n",
       "    <tr style=\"text-align: right;\">\n",
       "      <th></th>\n",
       "      <th>count</th>\n",
       "      <th>mean</th>\n",
       "      <th>std</th>\n",
       "      <th>min</th>\n",
       "      <th>25%</th>\n",
       "      <th>50%</th>\n",
       "      <th>75%</th>\n",
       "      <th>max</th>\n",
       "    </tr>\n",
       "    <tr>\n",
       "      <th>educations</th>\n",
       "      <th></th>\n",
       "      <th></th>\n",
       "      <th></th>\n",
       "      <th></th>\n",
       "      <th></th>\n",
       "      <th></th>\n",
       "      <th></th>\n",
       "      <th></th>\n",
       "    </tr>\n",
       "  </thead>\n",
       "  <tbody>\n",
       "    <tr>\n",
       "      <th>Some High School</th>\n",
       "      <td>179.0</td>\n",
       "      <td>63.497207</td>\n",
       "      <td>15.927989</td>\n",
       "      <td>0.0</td>\n",
       "      <td>53.00</td>\n",
       "      <td>65.0</td>\n",
       "      <td>74.0</td>\n",
       "      <td>97.0</td>\n",
       "    </tr>\n",
       "    <tr>\n",
       "      <th>High School</th>\n",
       "      <td>196.0</td>\n",
       "      <td>62.137755</td>\n",
       "      <td>14.539651</td>\n",
       "      <td>8.0</td>\n",
       "      <td>53.75</td>\n",
       "      <td>63.0</td>\n",
       "      <td>72.0</td>\n",
       "      <td>99.0</td>\n",
       "    </tr>\n",
       "    <tr>\n",
       "      <th>Some College</th>\n",
       "      <td>226.0</td>\n",
       "      <td>67.128319</td>\n",
       "      <td>14.312897</td>\n",
       "      <td>19.0</td>\n",
       "      <td>59.00</td>\n",
       "      <td>67.5</td>\n",
       "      <td>76.0</td>\n",
       "      <td>100.0</td>\n",
       "    </tr>\n",
       "    <tr>\n",
       "      <th>Associate's Degree</th>\n",
       "      <td>222.0</td>\n",
       "      <td>67.882883</td>\n",
       "      <td>15.112093</td>\n",
       "      <td>26.0</td>\n",
       "      <td>57.00</td>\n",
       "      <td>67.0</td>\n",
       "      <td>80.0</td>\n",
       "      <td>100.0</td>\n",
       "    </tr>\n",
       "    <tr>\n",
       "      <th>Bachelor's Degree</th>\n",
       "      <td>118.0</td>\n",
       "      <td>69.389831</td>\n",
       "      <td>14.943789</td>\n",
       "      <td>29.0</td>\n",
       "      <td>61.00</td>\n",
       "      <td>68.0</td>\n",
       "      <td>79.0</td>\n",
       "      <td>100.0</td>\n",
       "    </tr>\n",
       "    <tr>\n",
       "      <th>Master's Degree</th>\n",
       "      <td>59.0</td>\n",
       "      <td>69.745763</td>\n",
       "      <td>15.153915</td>\n",
       "      <td>40.0</td>\n",
       "      <td>55.50</td>\n",
       "      <td>73.0</td>\n",
       "      <td>81.0</td>\n",
       "      <td>95.0</td>\n",
       "    </tr>\n",
       "  </tbody>\n",
       "</table>\n",
       "</div>"
      ],
      "text/plain": [
       "                    count       mean        std   min    25%   50%   75%  \\\n",
       "educations                                                                 \n",
       "Some High School    179.0  63.497207  15.927989   0.0  53.00  65.0  74.0   \n",
       "High School         196.0  62.137755  14.539651   8.0  53.75  63.0  72.0   \n",
       "Some College        226.0  67.128319  14.312897  19.0  59.00  67.5  76.0   \n",
       "Associate's Degree  222.0  67.882883  15.112093  26.0  57.00  67.0  80.0   \n",
       "Bachelor's Degree   118.0  69.389831  14.943789  29.0  61.00  68.0  79.0   \n",
       "Master's Degree      59.0  69.745763  15.153915  40.0  55.50  73.0  81.0   \n",
       "\n",
       "                      max  \n",
       "educations                 \n",
       "Some High School     97.0  \n",
       "High School          99.0  \n",
       "Some College        100.0  \n",
       "Associate's Degree  100.0  \n",
       "Bachelor's Degree   100.0  \n",
       "Master's Degree      95.0  "
      ]
     },
     "execution_count": 91,
     "metadata": {},
     "output_type": "execute_result"
    }
   ],
   "source": [
    "df.groupby(\"educations\")['math'].describe()  # "
   ]
  },
  {
   "cell_type": "markdown",
   "metadata": {},
   "source": [
    "    This section shows educations vs all three tests, math, reading and writing. The information above shows statistical information."
   ]
  },
  {
   "cell_type": "markdown",
   "metadata": {},
   "source": [
    "Investigating how level of education affecting math test."
   ]
  },
  {
   "cell_type": "code",
   "execution_count": 24,
   "metadata": {},
   "outputs": [
    {
     "data": {
      "text/plain": [
       "<seaborn.axisgrid.FacetGrid at 0x1bf2e015828>"
      ]
     },
     "execution_count": 24,
     "metadata": {},
     "output_type": "execute_result"
    },
    {
     "data": {
      "image/png": "[encoded data removed]",
      "text/plain": [
       "<matplotlib.figure.Figure at 0x1bf2dbc8be0>"
      ]
     },
     "metadata": {},
     "output_type": "display_data"
    }
   ],
   "source": [
    "g=sb.FacetGrid(data=df, col=\"educations\") # use FacetGrid to investigation two variables\n",
    "g.map(sb.boxplot, \"math\", color=\"g\")"
   ]
  },
  {
   "cell_type": "markdown",
   "metadata": {},
   "source": [
    "This chart shows higher education performed better in 75% and average, people without degrees have more outliers."
   ]
  },
  {
   "cell_type": "markdown",
   "metadata": {},
   "source": [
    "Investigating how level of education affecting reading test."
   ]
  },
  {
   "cell_type": "code",
   "execution_count": 92,
   "metadata": {},
   "outputs": [
    {
     "data": {
      "text/html": [
       "<div>\n",
       "<style scoped>\n",
       "    .dataframe tbody tr th:only-of-type {\n",
       "        vertical-align: middle;\n",
       "    }\n",
       "\n",
       "    .dataframe tbody tr th {\n",
       "        vertical-align: top;\n",
       "    }\n",
       "\n",
       "    .dataframe thead th {\n",
       "        text-align: right;\n",
       "    }\n",
       "</style>\n",
       "<table border=\"1\" class=\"dataframe\">\n",
       "  <thead>\n",
       "    <tr style=\"text-align: right;\">\n",
       "      <th></th>\n",
       "      <th>count</th>\n",
       "      <th>mean</th>\n",
       "      <th>std</th>\n",
       "      <th>min</th>\n",
       "      <th>25%</th>\n",
       "      <th>50%</th>\n",
       "      <th>75%</th>\n",
       "      <th>max</th>\n",
       "    </tr>\n",
       "    <tr>\n",
       "      <th>educations</th>\n",
       "      <th></th>\n",
       "      <th></th>\n",
       "      <th></th>\n",
       "      <th></th>\n",
       "      <th></th>\n",
       "      <th></th>\n",
       "      <th></th>\n",
       "      <th></th>\n",
       "    </tr>\n",
       "  </thead>\n",
       "  <tbody>\n",
       "    <tr>\n",
       "      <th>Some High School</th>\n",
       "      <td>179.0</td>\n",
       "      <td>66.938547</td>\n",
       "      <td>15.479295</td>\n",
       "      <td>17.0</td>\n",
       "      <td>56.5</td>\n",
       "      <td>67.0</td>\n",
       "      <td>79.00</td>\n",
       "      <td>100.0</td>\n",
       "    </tr>\n",
       "    <tr>\n",
       "      <th>High School</th>\n",
       "      <td>196.0</td>\n",
       "      <td>64.704082</td>\n",
       "      <td>14.132130</td>\n",
       "      <td>24.0</td>\n",
       "      <td>54.0</td>\n",
       "      <td>66.0</td>\n",
       "      <td>74.25</td>\n",
       "      <td>99.0</td>\n",
       "    </tr>\n",
       "    <tr>\n",
       "      <th>Some College</th>\n",
       "      <td>226.0</td>\n",
       "      <td>69.460177</td>\n",
       "      <td>14.057049</td>\n",
       "      <td>23.0</td>\n",
       "      <td>60.0</td>\n",
       "      <td>70.5</td>\n",
       "      <td>79.75</td>\n",
       "      <td>100.0</td>\n",
       "    </tr>\n",
       "    <tr>\n",
       "      <th>Associate's Degree</th>\n",
       "      <td>222.0</td>\n",
       "      <td>70.927928</td>\n",
       "      <td>13.868948</td>\n",
       "      <td>31.0</td>\n",
       "      <td>61.0</td>\n",
       "      <td>72.5</td>\n",
       "      <td>81.00</td>\n",
       "      <td>100.0</td>\n",
       "    </tr>\n",
       "    <tr>\n",
       "      <th>Bachelor's Degree</th>\n",
       "      <td>118.0</td>\n",
       "      <td>73.000000</td>\n",
       "      <td>14.285250</td>\n",
       "      <td>41.0</td>\n",
       "      <td>63.0</td>\n",
       "      <td>73.0</td>\n",
       "      <td>82.75</td>\n",
       "      <td>100.0</td>\n",
       "    </tr>\n",
       "    <tr>\n",
       "      <th>Master's Degree</th>\n",
       "      <td>59.0</td>\n",
       "      <td>75.372881</td>\n",
       "      <td>13.775163</td>\n",
       "      <td>42.0</td>\n",
       "      <td>65.5</td>\n",
       "      <td>76.0</td>\n",
       "      <td>84.50</td>\n",
       "      <td>100.0</td>\n",
       "    </tr>\n",
       "  </tbody>\n",
       "</table>\n",
       "</div>"
      ],
      "text/plain": [
       "                    count       mean        std   min   25%   50%    75%  \\\n",
       "educations                                                                 \n",
       "Some High School    179.0  66.938547  15.479295  17.0  56.5  67.0  79.00   \n",
       "High School         196.0  64.704082  14.132130  24.0  54.0  66.0  74.25   \n",
       "Some College        226.0  69.460177  14.057049  23.0  60.0  70.5  79.75   \n",
       "Associate's Degree  222.0  70.927928  13.868948  31.0  61.0  72.5  81.00   \n",
       "Bachelor's Degree   118.0  73.000000  14.285250  41.0  63.0  73.0  82.75   \n",
       "Master's Degree      59.0  75.372881  13.775163  42.0  65.5  76.0  84.50   \n",
       "\n",
       "                      max  \n",
       "educations                 \n",
       "Some High School    100.0  \n",
       "High School          99.0  \n",
       "Some College        100.0  \n",
       "Associate's Degree  100.0  \n",
       "Bachelor's Degree   100.0  \n",
       "Master's Degree     100.0  "
      ]
     },
     "execution_count": 92,
     "metadata": {},
     "output_type": "execute_result"
    }
   ],
   "source": [
    "df.groupby(\"educations\")['reading'].describe() # getting statistical information for reading"
   ]
  },
  {
   "cell_type": "code",
   "execution_count": 21,
   "metadata": {},
   "outputs": [
    {
     "data": {
      "text/plain": [
       "<seaborn.axisgrid.FacetGrid at 0x294f7c17ac8>"
      ]
     },
     "execution_count": 21,
     "metadata": {},
     "output_type": "execute_result"
    },
    {
     "data": {
      "image/png": "[encoded data removed]",
      "text/plain": [
       "<Figure size 1296x216 with 6 Axes>"
      ]
     },
     "metadata": {
      "needs_background": "light"
     },
     "output_type": "display_data"
    }
   ],
   "source": [
    "g=sb.FacetGrid(data=df, col=\"educations\")\n",
    "g.map(sb.boxplot, \"reading\")"
   ]
  },
  {
   "cell_type": "markdown",
   "metadata": {},
   "source": [
    "People with different education level did good in reading test, althrough from  master's degree average scored higher to some high school. But some people from different level received same max result. There are outliers seen in some college and some high school. "
   ]
  },
  {
   "cell_type": "code",
   "execution_count": 93,
   "metadata": {},
   "outputs": [
    {
     "data": {
      "text/html": [
       "<div>\n",
       "<style scoped>\n",
       "    .dataframe tbody tr th:only-of-type {\n",
       "        vertical-align: middle;\n",
       "    }\n",
       "\n",
       "    .dataframe tbody tr th {\n",
       "        vertical-align: top;\n",
       "    }\n",
       "\n",
       "    .dataframe thead th {\n",
       "        text-align: right;\n",
       "    }\n",
       "</style>\n",
       "<table border=\"1\" class=\"dataframe\">\n",
       "  <thead>\n",
       "    <tr style=\"text-align: right;\">\n",
       "      <th></th>\n",
       "      <th>count</th>\n",
       "      <th>mean</th>\n",
       "      <th>std</th>\n",
       "      <th>min</th>\n",
       "      <th>25%</th>\n",
       "      <th>50%</th>\n",
       "      <th>75%</th>\n",
       "      <th>max</th>\n",
       "    </tr>\n",
       "    <tr>\n",
       "      <th>educations</th>\n",
       "      <th></th>\n",
       "      <th></th>\n",
       "      <th></th>\n",
       "      <th></th>\n",
       "      <th></th>\n",
       "      <th></th>\n",
       "      <th></th>\n",
       "      <th></th>\n",
       "    </tr>\n",
       "  </thead>\n",
       "  <tbody>\n",
       "    <tr>\n",
       "      <th>Some High School</th>\n",
       "      <td>179.0</td>\n",
       "      <td>64.888268</td>\n",
       "      <td>15.736197</td>\n",
       "      <td>10.0</td>\n",
       "      <td>54.0</td>\n",
       "      <td>66.0</td>\n",
       "      <td>77.0</td>\n",
       "      <td>100.0</td>\n",
       "    </tr>\n",
       "    <tr>\n",
       "      <th>High School</th>\n",
       "      <td>196.0</td>\n",
       "      <td>62.448980</td>\n",
       "      <td>14.085907</td>\n",
       "      <td>15.0</td>\n",
       "      <td>52.0</td>\n",
       "      <td>64.0</td>\n",
       "      <td>73.0</td>\n",
       "      <td>100.0</td>\n",
       "    </tr>\n",
       "    <tr>\n",
       "      <th>Some College</th>\n",
       "      <td>226.0</td>\n",
       "      <td>68.840708</td>\n",
       "      <td>15.012331</td>\n",
       "      <td>19.0</td>\n",
       "      <td>60.0</td>\n",
       "      <td>70.0</td>\n",
       "      <td>79.0</td>\n",
       "      <td>99.0</td>\n",
       "    </tr>\n",
       "    <tr>\n",
       "      <th>Associate's Degree</th>\n",
       "      <td>222.0</td>\n",
       "      <td>69.896396</td>\n",
       "      <td>14.311122</td>\n",
       "      <td>35.0</td>\n",
       "      <td>58.0</td>\n",
       "      <td>70.5</td>\n",
       "      <td>80.0</td>\n",
       "      <td>100.0</td>\n",
       "    </tr>\n",
       "    <tr>\n",
       "      <th>Bachelor's Degree</th>\n",
       "      <td>118.0</td>\n",
       "      <td>73.381356</td>\n",
       "      <td>14.728262</td>\n",
       "      <td>38.0</td>\n",
       "      <td>62.5</td>\n",
       "      <td>74.0</td>\n",
       "      <td>83.0</td>\n",
       "      <td>100.0</td>\n",
       "    </tr>\n",
       "    <tr>\n",
       "      <th>Master's Degree</th>\n",
       "      <td>59.0</td>\n",
       "      <td>75.677966</td>\n",
       "      <td>13.730711</td>\n",
       "      <td>46.0</td>\n",
       "      <td>67.0</td>\n",
       "      <td>75.0</td>\n",
       "      <td>85.0</td>\n",
       "      <td>100.0</td>\n",
       "    </tr>\n",
       "  </tbody>\n",
       "</table>\n",
       "</div>"
      ],
      "text/plain": [
       "                    count       mean        std   min   25%   50%   75%    max\n",
       "educations                                                                    \n",
       "Some High School    179.0  64.888268  15.736197  10.0  54.0  66.0  77.0  100.0\n",
       "High School         196.0  62.448980  14.085907  15.0  52.0  64.0  73.0  100.0\n",
       "Some College        226.0  68.840708  15.012331  19.0  60.0  70.0  79.0   99.0\n",
       "Associate's Degree  222.0  69.896396  14.311122  35.0  58.0  70.5  80.0  100.0\n",
       "Bachelor's Degree   118.0  73.381356  14.728262  38.0  62.5  74.0  83.0  100.0\n",
       "Master's Degree      59.0  75.677966  13.730711  46.0  67.0  75.0  85.0  100.0"
      ]
     },
     "execution_count": 93,
     "metadata": {},
     "output_type": "execute_result"
    }
   ],
   "source": [
    "df.groupby(\"educations\")['writing'].describe()"
   ]
  },
  {
   "cell_type": "markdown",
   "metadata": {},
   "source": [
    "Investigating how level of education affecting writing test."
   ]
  },
  {
   "cell_type": "code",
   "execution_count": 77,
   "metadata": {},
   "outputs": [
    {
     "data": {
      "text/plain": [
       "<seaborn.axisgrid.FacetGrid at 0x294fe217390>"
      ]
     },
     "execution_count": 77,
     "metadata": {},
     "output_type": "execute_result"
    },
    {
     "data": {
      "image/png": "[encoded data removed]",
      "text/plain": [
       "<Figure size 1296x216 with 6 Axes>"
      ]
     },
     "metadata": {
      "needs_background": "light"
     },
     "output_type": "display_data"
    }
   ],
   "source": [
    "g=sb.FacetGrid(data=df, col=\"educations\")\n",
    "g.map(sb.boxplot, \"writing\",color=\"r\")"
   ]
  },
  {
   "cell_type": "markdown",
   "metadata": {},
   "source": [
    "In writing plot shows people with some high school did better than high school (64.88 vs 62.44).  People with master's degree are on top. There are outliers seen in people without a degree. 15.736 in Some high school, 14.08 in high school, and 19 and 20s approx in some college."
   ]
  },
  {
   "cell_type": "markdown",
   "metadata": {},
   "source": [
    "Relationship between reading and writing. \n",
    ">Although each test is considered independent variables, i want to see there is any correlations between English subject and math. First, writing vs reading, and then math against english test."
   ]
  },
  {
   "cell_type": "code",
   "execution_count": 79,
   "metadata": {},
   "outputs": [
    {
     "data": {
      "image/png": "[encoded data removed]",
      "text/plain": [
       "<Figure size 1080x216 with 3 Axes>"
      ]
     },
     "metadata": {
      "needs_background": "light"
     },
     "output_type": "display_data"
    }
   ],
   "source": [
    "plt.figure(figsize=[15,3]) #create a figure and size\n",
    "plt.subplot(1,3,1) # create subplot\n",
    "\n",
    "plt.scatter(x=\"reading\", y=\"writing\",alpha=0.3, color=\"g\",data=df)\n",
    "plt.title(\"Writing vs Reading\")\n",
    "plt.xlabel(\"Reading\")\n",
    "plt.ylabel(\"Writing\")\n",
    "\n",
    "plt.subplot(1,3,2)\n",
    "plt.scatter(y=\"math\", x=\"reading\",alpha=0.3,color=\"r\",data=df)\n",
    "plt.title(\"Math vs Reading\")\n",
    "plt.xlabel(\"Reading\")\n",
    "plt.ylabel(\"Math\")\n",
    "           \n",
    "plt.subplot(1,3,3)\n",
    "plt.scatter(x=\"math\", y=\"writing\",alpha=0.3, data=df)\n",
    "plt.title(\"Math vs Writing\")\n",
    "plt.xlabel(\"Math\")\n",
    "plt.ylabel(\"Writing\")\n",
    "plt.show()\n"
   ]
  },
  {
   "cell_type": "markdown",
   "metadata": {},
   "source": [
    "The scatter plot shows writing and reading have formed thin scatter point line. It shows there's strong correlations between writing an reading. However, in comparison math vs english test, point scatter more widely but show there is some correlation."
   ]
  },
  {
   "cell_type": "markdown",
   "metadata": {},
   "source": [
    "Relationship bewteen those who took preparation course or none."
   ]
  },
  {
   "cell_type": "code",
   "execution_count": 101,
   "metadata": {},
   "outputs": [
    {
     "data": {
      "text/html": [
       "<div>\n",
       "<style scoped>\n",
       "    .dataframe tbody tr th:only-of-type {\n",
       "        vertical-align: middle;\n",
       "    }\n",
       "\n",
       "    .dataframe tbody tr th {\n",
       "        vertical-align: top;\n",
       "    }\n",
       "\n",
       "    .dataframe thead th {\n",
       "        text-align: right;\n",
       "    }\n",
       "</style>\n",
       "<table border=\"1\" class=\"dataframe\">\n",
       "  <thead>\n",
       "    <tr style=\"text-align: right;\">\n",
       "      <th></th>\n",
       "      <th>count</th>\n",
       "      <th>mean</th>\n",
       "      <th>std</th>\n",
       "      <th>min</th>\n",
       "      <th>25%</th>\n",
       "      <th>50%</th>\n",
       "      <th>75%</th>\n",
       "      <th>max</th>\n",
       "    </tr>\n",
       "    <tr>\n",
       "      <th>test_prep</th>\n",
       "      <th></th>\n",
       "      <th></th>\n",
       "      <th></th>\n",
       "      <th></th>\n",
       "      <th></th>\n",
       "      <th></th>\n",
       "      <th></th>\n",
       "      <th></th>\n",
       "    </tr>\n",
       "  </thead>\n",
       "  <tbody>\n",
       "    <tr>\n",
       "      <th>Completed</th>\n",
       "      <td>358.0</td>\n",
       "      <td>73.893855</td>\n",
       "      <td>13.638384</td>\n",
       "      <td>37.0</td>\n",
       "      <td>65.0</td>\n",
       "      <td>75.0</td>\n",
       "      <td>84.0</td>\n",
       "      <td>100.0</td>\n",
       "    </tr>\n",
       "    <tr>\n",
       "      <th>None</th>\n",
       "      <td>642.0</td>\n",
       "      <td>66.534268</td>\n",
       "      <td>14.463885</td>\n",
       "      <td>17.0</td>\n",
       "      <td>57.0</td>\n",
       "      <td>67.0</td>\n",
       "      <td>76.0</td>\n",
       "      <td>100.0</td>\n",
       "    </tr>\n",
       "  </tbody>\n",
       "</table>\n",
       "</div>"
      ],
      "text/plain": [
       "           count       mean        std   min   25%   50%   75%    max\n",
       "test_prep                                                            \n",
       "Completed  358.0  73.893855  13.638384  37.0  65.0  75.0  84.0  100.0\n",
       "None       642.0  66.534268  14.463885  17.0  57.0  67.0  76.0  100.0"
      ]
     },
     "execution_count": 101,
     "metadata": {},
     "output_type": "execute_result"
    }
   ],
   "source": [
    "df.groupby(\"test_prep\")['reading'].describe() # getting statistical information "
   ]
  },
  {
   "cell_type": "markdown",
   "metadata": {},
   "source": [
    "            This section I use test preparation course against three tests.\n",
    ">Reading with preparation course & None\n"
   ]
  },
  {
   "cell_type": "code",
   "execution_count": 32,
   "metadata": {},
   "outputs": [
    {
     "data": {
      "text/plain": [
       "<seaborn.axisgrid.FacetGrid at 0x294f8b75710>"
      ]
     },
     "execution_count": 32,
     "metadata": {},
     "output_type": "execute_result"
    },
    {
     "data": {
      "image/png": "[encoded data removed]",
      "text/plain": [
       "<Figure size 432x216 with 2 Axes>"
      ]
     },
     "metadata": {
      "needs_background": "light"
     },
     "output_type": "display_data"
    }
   ],
   "source": [
    "g=sb.FacetGrid(data=df, col=\"test_prep\") # use FacetGrid to plot two variables\n",
    "g.map(sb.boxplot, \"reading\") # map boxplot with FacetGrid"
   ]
  },
  {
   "cell_type": "markdown",
   "metadata": {},
   "source": [
    "There are many outliers seen in none preparation course. No outliers seen in test preparation.  Overall, test preparation did help students to do better."
   ]
  },
  {
   "cell_type": "code",
   "execution_count": 102,
   "metadata": {},
   "outputs": [
    {
     "data": {
      "text/html": [
       "<div>\n",
       "<style scoped>\n",
       "    .dataframe tbody tr th:only-of-type {\n",
       "        vertical-align: middle;\n",
       "    }\n",
       "\n",
       "    .dataframe tbody tr th {\n",
       "        vertical-align: top;\n",
       "    }\n",
       "\n",
       "    .dataframe thead th {\n",
       "        text-align: right;\n",
       "    }\n",
       "</style>\n",
       "<table border=\"1\" class=\"dataframe\">\n",
       "  <thead>\n",
       "    <tr style=\"text-align: right;\">\n",
       "      <th></th>\n",
       "      <th>count</th>\n",
       "      <th>mean</th>\n",
       "      <th>std</th>\n",
       "      <th>min</th>\n",
       "      <th>25%</th>\n",
       "      <th>50%</th>\n",
       "      <th>75%</th>\n",
       "      <th>max</th>\n",
       "    </tr>\n",
       "    <tr>\n",
       "      <th>test_prep</th>\n",
       "      <th></th>\n",
       "      <th></th>\n",
       "      <th></th>\n",
       "      <th></th>\n",
       "      <th></th>\n",
       "      <th></th>\n",
       "      <th></th>\n",
       "      <th></th>\n",
       "    </tr>\n",
       "  </thead>\n",
       "  <tbody>\n",
       "    <tr>\n",
       "      <th>Completed</th>\n",
       "      <td>358.0</td>\n",
       "      <td>74.418994</td>\n",
       "      <td>13.375335</td>\n",
       "      <td>36.0</td>\n",
       "      <td>66.0</td>\n",
       "      <td>76.0</td>\n",
       "      <td>83.0</td>\n",
       "      <td>100.0</td>\n",
       "    </tr>\n",
       "    <tr>\n",
       "      <th>None</th>\n",
       "      <td>642.0</td>\n",
       "      <td>64.504673</td>\n",
       "      <td>14.999661</td>\n",
       "      <td>10.0</td>\n",
       "      <td>54.0</td>\n",
       "      <td>65.0</td>\n",
       "      <td>74.0</td>\n",
       "      <td>100.0</td>\n",
       "    </tr>\n",
       "  </tbody>\n",
       "</table>\n",
       "</div>"
      ],
      "text/plain": [
       "           count       mean        std   min   25%   50%   75%    max\n",
       "test_prep                                                            \n",
       "Completed  358.0  74.418994  13.375335  36.0  66.0  76.0  83.0  100.0\n",
       "None       642.0  64.504673  14.999661  10.0  54.0  65.0  74.0  100.0"
      ]
     },
     "execution_count": 102,
     "metadata": {},
     "output_type": "execute_result"
    }
   ],
   "source": [
    "df.groupby(\"test_prep\")['writing'].describe()# getting statistical information "
   ]
  },
  {
   "cell_type": "markdown",
   "metadata": {},
   "source": [
    "Writing with preparation course and None"
   ]
  },
  {
   "cell_type": "code",
   "execution_count": 14,
   "metadata": {},
   "outputs": [
    {
     "data": {
      "text/plain": [
       "<seaborn.axisgrid.FacetGrid at 0x294f657c710>"
      ]
     },
     "execution_count": 14,
     "metadata": {},
     "output_type": "execute_result"
    },
    {
     "data": {
      "image/png": "[encoded data removed]",
      "text/plain": [
       "<Figure size 432x216 with 2 Axes>"
      ]
     },
     "metadata": {
      "needs_background": "light"
     },
     "output_type": "display_data"
    }
   ],
   "source": [
    "g=sb.FacetGrid(data=df, col=\"test_prep\")# use FacetGrid to plot two variables\n",
    "g.map(sb.boxplot, \"writing\")# map boxplot with FacetGrid"
   ]
  },
  {
   "cell_type": "markdown",
   "metadata": {},
   "source": [
    "In writing, outliers seen in both comparison. There are more in none preparation. Overall, Test preparation also help to increased scores. 74.41-64.50=9.91 in average."
   ]
  },
  {
   "cell_type": "code",
   "execution_count": 103,
   "metadata": {},
   "outputs": [
    {
     "data": {
      "text/html": [
       "<div>\n",
       "<style scoped>\n",
       "    .dataframe tbody tr th:only-of-type {\n",
       "        vertical-align: middle;\n",
       "    }\n",
       "\n",
       "    .dataframe tbody tr th {\n",
       "        vertical-align: top;\n",
       "    }\n",
       "\n",
       "    .dataframe thead th {\n",
       "        text-align: right;\n",
       "    }\n",
       "</style>\n",
       "<table border=\"1\" class=\"dataframe\">\n",
       "  <thead>\n",
       "    <tr style=\"text-align: right;\">\n",
       "      <th></th>\n",
       "      <th>count</th>\n",
       "      <th>mean</th>\n",
       "      <th>std</th>\n",
       "      <th>min</th>\n",
       "      <th>25%</th>\n",
       "      <th>50%</th>\n",
       "      <th>75%</th>\n",
       "      <th>max</th>\n",
       "    </tr>\n",
       "    <tr>\n",
       "      <th>test_prep</th>\n",
       "      <th></th>\n",
       "      <th></th>\n",
       "      <th></th>\n",
       "      <th></th>\n",
       "      <th></th>\n",
       "      <th></th>\n",
       "      <th></th>\n",
       "      <th></th>\n",
       "    </tr>\n",
       "  </thead>\n",
       "  <tbody>\n",
       "    <tr>\n",
       "      <th>Completed</th>\n",
       "      <td>358.0</td>\n",
       "      <td>69.695531</td>\n",
       "      <td>14.444699</td>\n",
       "      <td>23.0</td>\n",
       "      <td>60.0</td>\n",
       "      <td>69.0</td>\n",
       "      <td>79.00</td>\n",
       "      <td>100.0</td>\n",
       "    </tr>\n",
       "    <tr>\n",
       "      <th>None</th>\n",
       "      <td>642.0</td>\n",
       "      <td>64.077882</td>\n",
       "      <td>15.192376</td>\n",
       "      <td>0.0</td>\n",
       "      <td>54.0</td>\n",
       "      <td>64.0</td>\n",
       "      <td>74.75</td>\n",
       "      <td>100.0</td>\n",
       "    </tr>\n",
       "  </tbody>\n",
       "</table>\n",
       "</div>"
      ],
      "text/plain": [
       "           count       mean        std   min   25%   50%    75%    max\n",
       "test_prep                                                             \n",
       "Completed  358.0  69.695531  14.444699  23.0  60.0  69.0  79.00  100.0\n",
       "None       642.0  64.077882  15.192376   0.0  54.0  64.0  74.75  100.0"
      ]
     },
     "execution_count": 103,
     "metadata": {},
     "output_type": "execute_result"
    }
   ],
   "source": [
    "df.groupby(\"test_prep\")['math'].describe() # getting statistical information "
   ]
  },
  {
   "cell_type": "markdown",
   "metadata": {},
   "source": [
    "math with preparation course and None"
   ]
  },
  {
   "cell_type": "code",
   "execution_count": 15,
   "metadata": {},
   "outputs": [
    {
     "data": {
      "text/plain": [
       "<seaborn.axisgrid.FacetGrid at 0x294f6675ac8>"
      ]
     },
     "execution_count": 15,
     "metadata": {},
     "output_type": "execute_result"
    },
    {
     "data": {
      "image/png": "[encoded data removed]",
      "text/plain": [
       "<Figure size 432x216 with 2 Axes>"
      ]
     },
     "metadata": {
      "needs_background": "light"
     },
     "output_type": "display_data"
    }
   ],
   "source": [
    "g=sb.FacetGrid(data=df, col=\"test_prep\")  # use FacetGrid to plot two variables\n",
    "g.map(sb.boxplot, \"math\")  # map boxplot with FacetGrid"
   ]
  },
  {
   "cell_type": "markdown",
   "metadata": {},
   "source": [
    "Even there are outliers in both test preparation and none. People with test preparation did slightly better. 69.69-64.07=5.62 in average."
   ]
  },
  {
   "cell_type": "markdown",
   "metadata": {},
   "source": [
    "I am interested to find out what are percentage that men and women have their educations."
   ]
  },
  {
   "cell_type": "code",
   "execution_count": 32,
   "metadata": {},
   "outputs": [
    {
     "data": {
      "image/png": "[encoded data removed]",
      "text/plain": [
       "<matplotlib.figure.Figure at 0x1bf2d8a62e8>"
      ]
     },
     "metadata": {},
     "output_type": "display_data"
    }
   ],
   "source": [
    "g=df.groupby(\"educations\")['gender'].value_counts() # counting and summarize all educations for each male and female\n",
    "\n",
    "plt.pie(data=df,x=g,autopct='%1.0f%%', shadow=True,labels=g.index,startangle=180) # add percentage in pie for each categgory\n",
    "plt.title(\"Percentage of Gender's Education\")  # Add title\n",
    "plt.show()"
   ]
  },
  {
   "cell_type": "code",
   "execution_count": null,
   "metadata": {},
   "outputs": [],
   "source": []
  },
  {
   "cell_type": "markdown",
   "metadata": {},
   "source": [
    "The chart shows most people have associate degrees both male 11% and female 12%. Only small percentage with master's degree. \n"
   ]
  },
  {
   "cell_type": "markdown",
   "metadata": {},
   "source": [
    "There are outliers also seen in math test in both test preparation course and None. None has more. Averge people who took course did better in math. 69.69-64.07=5.62 difference."
   ]
  },
  {
   "cell_type": "markdown",
   "metadata": {},
   "source": [
    "### Talk about some of the relationships you observed in this part of the investigation. How did the feature(s) of interest vary with other features in the dataset?\n",
    "\n",
    "> For those who have higher education proved higher test scores. Test preparation courses do help to increase scores. Hoever, statists and plots show that people performed average in both writing and math, especially math.  In Reading people did well regradless their educational backgroup. Bar chart shows most test takers have associate degrees and some colleges. However, people with higher educations performed better, such as bachelor's degree and master's degree.\n",
    "\n",
    "### Did you observe any interesting relationships between the other features (not the main feature(s) of interest)?\n",
    "\n",
    "> Relationship between reading and writing have closed relationship.  However, math is apart from reading and writing it is because English include reading and writing. Math is dealing numerical problems."
   ]
  },
  {
   "cell_type": "markdown",
   "metadata": {},
   "source": [
    "## Multivariate Exploration\n",
    "\n",
    "> Create plots of three or more variables to investigate your data even\n",
    "further. Make sure that your investigations are justified, and follow from\n",
    "your work in the previous sections."
   ]
  },
  {
   "cell_type": "markdown",
   "metadata": {},
   "source": [
    "> In this section, I am going to investigate three variables.\n",
    "> First combining education and test preparation vs tests.  I use cluster bar for visualization"
   ]
  },
  {
   "cell_type": "code",
   "execution_count": 94,
   "metadata": {},
   "outputs": [
    {
     "data": {
      "text/html": [
       "<div>\n",
       "<style scoped>\n",
       "    .dataframe tbody tr th:only-of-type {\n",
       "        vertical-align: middle;\n",
       "    }\n",
       "\n",
       "    .dataframe tbody tr th {\n",
       "        vertical-align: top;\n",
       "    }\n",
       "\n",
       "    .dataframe thead th {\n",
       "        text-align: right;\n",
       "    }\n",
       "</style>\n",
       "<table border=\"1\" class=\"dataframe\">\n",
       "  <thead>\n",
       "    <tr style=\"text-align: right;\">\n",
       "      <th></th>\n",
       "      <th></th>\n",
       "      <th>count</th>\n",
       "      <th>mean</th>\n",
       "      <th>std</th>\n",
       "      <th>min</th>\n",
       "      <th>25%</th>\n",
       "      <th>50%</th>\n",
       "      <th>75%</th>\n",
       "      <th>max</th>\n",
       "    </tr>\n",
       "    <tr>\n",
       "      <th>educations</th>\n",
       "      <th>test_prep</th>\n",
       "      <th></th>\n",
       "      <th></th>\n",
       "      <th></th>\n",
       "      <th></th>\n",
       "      <th></th>\n",
       "      <th></th>\n",
       "      <th></th>\n",
       "      <th></th>\n",
       "    </tr>\n",
       "  </thead>\n",
       "  <tbody>\n",
       "    <tr>\n",
       "      <th rowspan=\"2\" valign=\"top\">Some High School</th>\n",
       "      <th>Completed</th>\n",
       "      <td>77.0</td>\n",
       "      <td>66.701299</td>\n",
       "      <td>14.583755</td>\n",
       "      <td>29.0</td>\n",
       "      <td>59.00</td>\n",
       "      <td>65.0</td>\n",
       "      <td>77.00</td>\n",
       "      <td>97.0</td>\n",
       "    </tr>\n",
       "    <tr>\n",
       "      <th>None</th>\n",
       "      <td>102.0</td>\n",
       "      <td>61.078431</td>\n",
       "      <td>16.533007</td>\n",
       "      <td>0.0</td>\n",
       "      <td>49.00</td>\n",
       "      <td>64.0</td>\n",
       "      <td>73.00</td>\n",
       "      <td>94.0</td>\n",
       "    </tr>\n",
       "    <tr>\n",
       "      <th rowspan=\"2\" valign=\"top\">High School</th>\n",
       "      <th>Completed</th>\n",
       "      <td>56.0</td>\n",
       "      <td>65.000000</td>\n",
       "      <td>12.999301</td>\n",
       "      <td>23.0</td>\n",
       "      <td>57.00</td>\n",
       "      <td>67.0</td>\n",
       "      <td>73.25</td>\n",
       "      <td>88.0</td>\n",
       "    </tr>\n",
       "    <tr>\n",
       "      <th>None</th>\n",
       "      <td>140.0</td>\n",
       "      <td>60.992857</td>\n",
       "      <td>15.002876</td>\n",
       "      <td>8.0</td>\n",
       "      <td>52.00</td>\n",
       "      <td>62.0</td>\n",
       "      <td>71.00</td>\n",
       "      <td>99.0</td>\n",
       "    </tr>\n",
       "    <tr>\n",
       "      <th rowspan=\"2\" valign=\"top\">Some College</th>\n",
       "      <th>Completed</th>\n",
       "      <td>77.0</td>\n",
       "      <td>71.454545</td>\n",
       "      <td>13.899589</td>\n",
       "      <td>42.0</td>\n",
       "      <td>63.00</td>\n",
       "      <td>70.0</td>\n",
       "      <td>82.00</td>\n",
       "      <td>100.0</td>\n",
       "    </tr>\n",
       "    <tr>\n",
       "      <th>None</th>\n",
       "      <td>149.0</td>\n",
       "      <td>64.892617</td>\n",
       "      <td>14.052095</td>\n",
       "      <td>19.0</td>\n",
       "      <td>58.00</td>\n",
       "      <td>65.0</td>\n",
       "      <td>74.00</td>\n",
       "      <td>100.0</td>\n",
       "    </tr>\n",
       "    <tr>\n",
       "      <th rowspan=\"2\" valign=\"top\">Associate's Degree</th>\n",
       "      <th>Completed</th>\n",
       "      <td>82.0</td>\n",
       "      <td>71.829268</td>\n",
       "      <td>14.347370</td>\n",
       "      <td>40.0</td>\n",
       "      <td>61.25</td>\n",
       "      <td>71.0</td>\n",
       "      <td>82.00</td>\n",
       "      <td>100.0</td>\n",
       "    </tr>\n",
       "    <tr>\n",
       "      <th>None</th>\n",
       "      <td>140.0</td>\n",
       "      <td>65.571429</td>\n",
       "      <td>15.118783</td>\n",
       "      <td>26.0</td>\n",
       "      <td>53.00</td>\n",
       "      <td>65.0</td>\n",
       "      <td>77.75</td>\n",
       "      <td>100.0</td>\n",
       "    </tr>\n",
       "    <tr>\n",
       "      <th rowspan=\"2\" valign=\"top\">Bachelor's Degree</th>\n",
       "      <th>Completed</th>\n",
       "      <td>46.0</td>\n",
       "      <td>73.282609</td>\n",
       "      <td>15.252924</td>\n",
       "      <td>39.0</td>\n",
       "      <td>66.00</td>\n",
       "      <td>72.5</td>\n",
       "      <td>84.50</td>\n",
       "      <td>100.0</td>\n",
       "    </tr>\n",
       "    <tr>\n",
       "      <th>None</th>\n",
       "      <td>72.0</td>\n",
       "      <td>66.902778</td>\n",
       "      <td>14.298783</td>\n",
       "      <td>29.0</td>\n",
       "      <td>59.00</td>\n",
       "      <td>65.5</td>\n",
       "      <td>77.25</td>\n",
       "      <td>100.0</td>\n",
       "    </tr>\n",
       "    <tr>\n",
       "      <th rowspan=\"2\" valign=\"top\">Master's Degree</th>\n",
       "      <th>Completed</th>\n",
       "      <td>20.0</td>\n",
       "      <td>70.600000</td>\n",
       "      <td>14.615781</td>\n",
       "      <td>46.0</td>\n",
       "      <td>60.25</td>\n",
       "      <td>71.0</td>\n",
       "      <td>81.75</td>\n",
       "      <td>94.0</td>\n",
       "    </tr>\n",
       "    <tr>\n",
       "      <th>None</th>\n",
       "      <td>39.0</td>\n",
       "      <td>69.307692</td>\n",
       "      <td>15.592093</td>\n",
       "      <td>40.0</td>\n",
       "      <td>54.50</td>\n",
       "      <td>73.0</td>\n",
       "      <td>81.00</td>\n",
       "      <td>95.0</td>\n",
       "    </tr>\n",
       "  </tbody>\n",
       "</table>\n",
       "</div>"
      ],
      "text/plain": [
       "                              count       mean        std   min    25%   50%  \\\n",
       "educations         test_prep                                                   \n",
       "Some High School   Completed   77.0  66.701299  14.583755  29.0  59.00  65.0   \n",
       "                   None       102.0  61.078431  16.533007   0.0  49.00  64.0   \n",
       "High School        Completed   56.0  65.000000  12.999301  23.0  57.00  67.0   \n",
       "                   None       140.0  60.992857  15.002876   8.0  52.00  62.0   \n",
       "Some College       Completed   77.0  71.454545  13.899589  42.0  63.00  70.0   \n",
       "                   None       149.0  64.892617  14.052095  19.0  58.00  65.0   \n",
       "Associate's Degree Completed   82.0  71.829268  14.347370  40.0  61.25  71.0   \n",
       "                   None       140.0  65.571429  15.118783  26.0  53.00  65.0   \n",
       "Bachelor's Degree  Completed   46.0  73.282609  15.252924  39.0  66.00  72.5   \n",
       "                   None        72.0  66.902778  14.298783  29.0  59.00  65.5   \n",
       "Master's Degree    Completed   20.0  70.600000  14.615781  46.0  60.25  71.0   \n",
       "                   None        39.0  69.307692  15.592093  40.0  54.50  73.0   \n",
       "\n",
       "                                75%    max  \n",
       "educations         test_prep                \n",
       "Some High School   Completed  77.00   97.0  \n",
       "                   None       73.00   94.0  \n",
       "High School        Completed  73.25   88.0  \n",
       "                   None       71.00   99.0  \n",
       "Some College       Completed  82.00  100.0  \n",
       "                   None       74.00  100.0  \n",
       "Associate's Degree Completed  82.00  100.0  \n",
       "                   None       77.75  100.0  \n",
       "Bachelor's Degree  Completed  84.50  100.0  \n",
       "                   None       77.25  100.0  \n",
       "Master's Degree    Completed  81.75   94.0  \n",
       "                   None       81.00   95.0  "
      ]
     },
     "execution_count": 94,
     "metadata": {},
     "output_type": "execute_result"
    }
   ],
   "source": [
    "df.groupby(['educations','test_prep'])['math'].describe() # getting statistical information"
   ]
  },
  {
   "cell_type": "markdown",
   "metadata": {},
   "source": [
    ">All education with test preparation vs math"
   ]
  },
  {
   "cell_type": "code",
   "execution_count": 81,
   "metadata": {},
   "outputs": [
    {
     "data": {
      "text/plain": [
       "(array([0, 1, 2, 3, 4, 5]), <a list of 6 Text xticklabel objects>)"
      ]
     },
     "execution_count": 81,
     "metadata": {},
     "output_type": "execute_result"
    },
    {
     "data": {
      "image/png": "[encoded data removed]",
      "text/plain": [
       "<Figure size 450.125x360 with 1 Axes>"
      ]
     },
     "metadata": {
      "needs_background": "light"
     },
     "output_type": "display_data"
    }
   ],
   "source": [
    "sb.catplot(x=\"educations\", y=\"math\", hue=\"test_prep\", kind=\"bar\", data=df)\n",
    "plt.title(\"Completed vs None in Math\")\n",
    "plt.xticks(rotation=45)"
   ]
  },
  {
   "cell_type": "markdown",
   "metadata": {},
   "source": [
    "Result shows test preparation people master's degree(70.06) fall behind some college(71.45), assoicate's degree(71.82) and bachelor's degree(73.21), averagely. But for non-preparation, master'degree did better than the rests."
   ]
  },
  {
   "cell_type": "code",
   "execution_count": 95,
   "metadata": {},
   "outputs": [
    {
     "data": {
      "text/html": [
       "<div>\n",
       "<style scoped>\n",
       "    .dataframe tbody tr th:only-of-type {\n",
       "        vertical-align: middle;\n",
       "    }\n",
       "\n",
       "    .dataframe tbody tr th {\n",
       "        vertical-align: top;\n",
       "    }\n",
       "\n",
       "    .dataframe thead th {\n",
       "        text-align: right;\n",
       "    }\n",
       "</style>\n",
       "<table border=\"1\" class=\"dataframe\">\n",
       "  <thead>\n",
       "    <tr style=\"text-align: right;\">\n",
       "      <th></th>\n",
       "      <th></th>\n",
       "      <th>count</th>\n",
       "      <th>mean</th>\n",
       "      <th>std</th>\n",
       "      <th>min</th>\n",
       "      <th>25%</th>\n",
       "      <th>50%</th>\n",
       "      <th>75%</th>\n",
       "      <th>max</th>\n",
       "    </tr>\n",
       "    <tr>\n",
       "      <th>educations</th>\n",
       "      <th>test_prep</th>\n",
       "      <th></th>\n",
       "      <th></th>\n",
       "      <th></th>\n",
       "      <th></th>\n",
       "      <th></th>\n",
       "      <th></th>\n",
       "      <th></th>\n",
       "      <th></th>\n",
       "    </tr>\n",
       "  </thead>\n",
       "  <tbody>\n",
       "    <tr>\n",
       "      <th rowspan=\"2\" valign=\"top\">Some High School</th>\n",
       "      <th>Completed</th>\n",
       "      <td>77.0</td>\n",
       "      <td>70.948052</td>\n",
       "      <td>14.137386</td>\n",
       "      <td>37.0</td>\n",
       "      <td>61.00</td>\n",
       "      <td>71.0</td>\n",
       "      <td>83.0</td>\n",
       "      <td>100.0</td>\n",
       "    </tr>\n",
       "    <tr>\n",
       "      <th>None</th>\n",
       "      <td>102.0</td>\n",
       "      <td>63.911765</td>\n",
       "      <td>15.823346</td>\n",
       "      <td>17.0</td>\n",
       "      <td>54.00</td>\n",
       "      <td>64.5</td>\n",
       "      <td>74.0</td>\n",
       "      <td>97.0</td>\n",
       "    </tr>\n",
       "    <tr>\n",
       "      <th rowspan=\"2\" valign=\"top\">High School</th>\n",
       "      <th>Completed</th>\n",
       "      <td>56.0</td>\n",
       "      <td>67.839286</td>\n",
       "      <td>13.447239</td>\n",
       "      <td>41.0</td>\n",
       "      <td>57.75</td>\n",
       "      <td>68.5</td>\n",
       "      <td>79.0</td>\n",
       "      <td>99.0</td>\n",
       "    </tr>\n",
       "    <tr>\n",
       "      <th>None</th>\n",
       "      <td>140.0</td>\n",
       "      <td>63.450000</td>\n",
       "      <td>14.250748</td>\n",
       "      <td>24.0</td>\n",
       "      <td>53.00</td>\n",
       "      <td>64.0</td>\n",
       "      <td>73.0</td>\n",
       "      <td>95.0</td>\n",
       "    </tr>\n",
       "    <tr>\n",
       "      <th rowspan=\"2\" valign=\"top\">Some College</th>\n",
       "      <th>Completed</th>\n",
       "      <td>77.0</td>\n",
       "      <td>75.987013</td>\n",
       "      <td>12.068329</td>\n",
       "      <td>47.0</td>\n",
       "      <td>71.00</td>\n",
       "      <td>78.0</td>\n",
       "      <td>84.0</td>\n",
       "      <td>97.0</td>\n",
       "    </tr>\n",
       "    <tr>\n",
       "      <th>None</th>\n",
       "      <td>149.0</td>\n",
       "      <td>66.087248</td>\n",
       "      <td>13.856374</td>\n",
       "      <td>23.0</td>\n",
       "      <td>58.00</td>\n",
       "      <td>66.0</td>\n",
       "      <td>76.0</td>\n",
       "      <td>100.0</td>\n",
       "    </tr>\n",
       "    <tr>\n",
       "      <th rowspan=\"2\" valign=\"top\">Associate's Degree</th>\n",
       "      <th>Completed</th>\n",
       "      <td>82.0</td>\n",
       "      <td>76.170732</td>\n",
       "      <td>12.562736</td>\n",
       "      <td>43.0</td>\n",
       "      <td>68.25</td>\n",
       "      <td>77.0</td>\n",
       "      <td>85.0</td>\n",
       "      <td>100.0</td>\n",
       "    </tr>\n",
       "    <tr>\n",
       "      <th>None</th>\n",
       "      <td>140.0</td>\n",
       "      <td>67.857143</td>\n",
       "      <td>13.716330</td>\n",
       "      <td>31.0</td>\n",
       "      <td>57.00</td>\n",
       "      <td>68.0</td>\n",
       "      <td>77.0</td>\n",
       "      <td>100.0</td>\n",
       "    </tr>\n",
       "    <tr>\n",
       "      <th rowspan=\"2\" valign=\"top\">Bachelor's Degree</th>\n",
       "      <th>Completed</th>\n",
       "      <td>46.0</td>\n",
       "      <td>76.739130</td>\n",
       "      <td>14.100331</td>\n",
       "      <td>42.0</td>\n",
       "      <td>66.50</td>\n",
       "      <td>75.0</td>\n",
       "      <td>85.5</td>\n",
       "      <td>100.0</td>\n",
       "    </tr>\n",
       "    <tr>\n",
       "      <th>None</th>\n",
       "      <td>72.0</td>\n",
       "      <td>70.611111</td>\n",
       "      <td>13.979417</td>\n",
       "      <td>41.0</td>\n",
       "      <td>60.00</td>\n",
       "      <td>72.0</td>\n",
       "      <td>79.0</td>\n",
       "      <td>100.0</td>\n",
       "    </tr>\n",
       "    <tr>\n",
       "      <th rowspan=\"2\" valign=\"top\">Master's Degree</th>\n",
       "      <th>Completed</th>\n",
       "      <td>20.0</td>\n",
       "      <td>78.250000</td>\n",
       "      <td>14.927456</td>\n",
       "      <td>42.0</td>\n",
       "      <td>69.50</td>\n",
       "      <td>79.0</td>\n",
       "      <td>89.5</td>\n",
       "      <td>99.0</td>\n",
       "    </tr>\n",
       "    <tr>\n",
       "      <th>None</th>\n",
       "      <td>39.0</td>\n",
       "      <td>73.897436</td>\n",
       "      <td>13.100412</td>\n",
       "      <td>53.0</td>\n",
       "      <td>63.50</td>\n",
       "      <td>72.0</td>\n",
       "      <td>83.0</td>\n",
       "      <td>100.0</td>\n",
       "    </tr>\n",
       "  </tbody>\n",
       "</table>\n",
       "</div>"
      ],
      "text/plain": [
       "                              count       mean        std   min    25%   50%  \\\n",
       "educations         test_prep                                                   \n",
       "Some High School   Completed   77.0  70.948052  14.137386  37.0  61.00  71.0   \n",
       "                   None       102.0  63.911765  15.823346  17.0  54.00  64.5   \n",
       "High School        Completed   56.0  67.839286  13.447239  41.0  57.75  68.5   \n",
       "                   None       140.0  63.450000  14.250748  24.0  53.00  64.0   \n",
       "Some College       Completed   77.0  75.987013  12.068329  47.0  71.00  78.0   \n",
       "                   None       149.0  66.087248  13.856374  23.0  58.00  66.0   \n",
       "Associate's Degree Completed   82.0  76.170732  12.562736  43.0  68.25  77.0   \n",
       "                   None       140.0  67.857143  13.716330  31.0  57.00  68.0   \n",
       "Bachelor's Degree  Completed   46.0  76.739130  14.100331  42.0  66.50  75.0   \n",
       "                   None        72.0  70.611111  13.979417  41.0  60.00  72.0   \n",
       "Master's Degree    Completed   20.0  78.250000  14.927456  42.0  69.50  79.0   \n",
       "                   None        39.0  73.897436  13.100412  53.0  63.50  72.0   \n",
       "\n",
       "                               75%    max  \n",
       "educations         test_prep               \n",
       "Some High School   Completed  83.0  100.0  \n",
       "                   None       74.0   97.0  \n",
       "High School        Completed  79.0   99.0  \n",
       "                   None       73.0   95.0  \n",
       "Some College       Completed  84.0   97.0  \n",
       "                   None       76.0  100.0  \n",
       "Associate's Degree Completed  85.0  100.0  \n",
       "                   None       77.0  100.0  \n",
       "Bachelor's Degree  Completed  85.5  100.0  \n",
       "                   None       79.0  100.0  \n",
       "Master's Degree    Completed  89.5   99.0  \n",
       "                   None       83.0  100.0  "
      ]
     },
     "execution_count": 95,
     "metadata": {},
     "output_type": "execute_result"
    }
   ],
   "source": [
    "df.groupby(['educations','test_prep'])['reading'].describe() # getting statistical information"
   ]
  },
  {
   "cell_type": "markdown",
   "metadata": {},
   "source": [
    ">All education with test preparation vs reading"
   ]
  },
  {
   "cell_type": "code",
   "execution_count": 82,
   "metadata": {},
   "outputs": [
    {
     "data": {
      "text/plain": [
       "(array([0, 1, 2, 3, 4, 5]), <a list of 6 Text xticklabel objects>)"
      ]
     },
     "execution_count": 82,
     "metadata": {},
     "output_type": "execute_result"
    },
    {
     "data": {
      "image/png": "[encoded data removed]",
      "text/plain": [
       "<Figure size 450.125x360 with 1 Axes>"
      ]
     },
     "metadata": {
      "needs_background": "light"
     },
     "output_type": "display_data"
    }
   ],
   "source": [
    "sb.catplot(x=\"educations\", y=\"reading\", hue=\"test_prep\", kind=\"bar\", data=df) # plotting with seaborn cluster bar\n",
    "plt.title(\"Completed vs None in Reading\") #set title\n",
    "plt.xticks(rotation=45) # rotation to avoid overlap"
   ]
  },
  {
   "cell_type": "markdown",
   "metadata": {},
   "source": [
    "In reading, master's degree received higher score than the rest. People without finished high school did better than people with high school. People with some college, assoicate degree and bachelor's degree almost in same level with test preparation."
   ]
  },
  {
   "cell_type": "code",
   "execution_count": 96,
   "metadata": {},
   "outputs": [
    {
     "data": {
      "text/html": [
       "<div>\n",
       "<style scoped>\n",
       "    .dataframe tbody tr th:only-of-type {\n",
       "        vertical-align: middle;\n",
       "    }\n",
       "\n",
       "    .dataframe tbody tr th {\n",
       "        vertical-align: top;\n",
       "    }\n",
       "\n",
       "    .dataframe thead th {\n",
       "        text-align: right;\n",
       "    }\n",
       "</style>\n",
       "<table border=\"1\" class=\"dataframe\">\n",
       "  <thead>\n",
       "    <tr style=\"text-align: right;\">\n",
       "      <th></th>\n",
       "      <th></th>\n",
       "      <th>count</th>\n",
       "      <th>mean</th>\n",
       "      <th>std</th>\n",
       "      <th>min</th>\n",
       "      <th>25%</th>\n",
       "      <th>50%</th>\n",
       "      <th>75%</th>\n",
       "      <th>max</th>\n",
       "    </tr>\n",
       "    <tr>\n",
       "      <th>educations</th>\n",
       "      <th>test_prep</th>\n",
       "      <th></th>\n",
       "      <th></th>\n",
       "      <th></th>\n",
       "      <th></th>\n",
       "      <th></th>\n",
       "      <th></th>\n",
       "      <th></th>\n",
       "      <th></th>\n",
       "    </tr>\n",
       "  </thead>\n",
       "  <tbody>\n",
       "    <tr>\n",
       "      <th rowspan=\"2\" valign=\"top\">Some High School</th>\n",
       "      <th>Completed</th>\n",
       "      <td>77.0</td>\n",
       "      <td>70.363636</td>\n",
       "      <td>13.480892</td>\n",
       "      <td>40.0</td>\n",
       "      <td>60.00</td>\n",
       "      <td>72.0</td>\n",
       "      <td>79.00</td>\n",
       "      <td>100.0</td>\n",
       "    </tr>\n",
       "    <tr>\n",
       "      <th>None</th>\n",
       "      <td>102.0</td>\n",
       "      <td>60.754902</td>\n",
       "      <td>16.110655</td>\n",
       "      <td>10.0</td>\n",
       "      <td>51.00</td>\n",
       "      <td>61.0</td>\n",
       "      <td>74.50</td>\n",
       "      <td>96.0</td>\n",
       "    </tr>\n",
       "    <tr>\n",
       "      <th rowspan=\"2\" valign=\"top\">High School</th>\n",
       "      <th>Completed</th>\n",
       "      <td>56.0</td>\n",
       "      <td>68.053571</td>\n",
       "      <td>13.191484</td>\n",
       "      <td>36.0</td>\n",
       "      <td>59.50</td>\n",
       "      <td>68.0</td>\n",
       "      <td>78.00</td>\n",
       "      <td>100.0</td>\n",
       "    </tr>\n",
       "    <tr>\n",
       "      <th>None</th>\n",
       "      <td>140.0</td>\n",
       "      <td>60.207143</td>\n",
       "      <td>13.848355</td>\n",
       "      <td>15.0</td>\n",
       "      <td>51.00</td>\n",
       "      <td>62.0</td>\n",
       "      <td>70.00</td>\n",
       "      <td>90.0</td>\n",
       "    </tr>\n",
       "    <tr>\n",
       "      <th rowspan=\"2\" valign=\"top\">Some College</th>\n",
       "      <th>Completed</th>\n",
       "      <td>77.0</td>\n",
       "      <td>76.519481</td>\n",
       "      <td>11.566297</td>\n",
       "      <td>51.0</td>\n",
       "      <td>70.00</td>\n",
       "      <td>77.0</td>\n",
       "      <td>85.00</td>\n",
       "      <td>99.0</td>\n",
       "    </tr>\n",
       "    <tr>\n",
       "      <th>None</th>\n",
       "      <td>149.0</td>\n",
       "      <td>64.872483</td>\n",
       "      <td>15.079648</td>\n",
       "      <td>19.0</td>\n",
       "      <td>56.00</td>\n",
       "      <td>66.0</td>\n",
       "      <td>75.00</td>\n",
       "      <td>99.0</td>\n",
       "    </tr>\n",
       "    <tr>\n",
       "      <th rowspan=\"2\" valign=\"top\">Associate's Degree</th>\n",
       "      <th>Completed</th>\n",
       "      <td>82.0</td>\n",
       "      <td>76.817073</td>\n",
       "      <td>12.681403</td>\n",
       "      <td>44.0</td>\n",
       "      <td>68.00</td>\n",
       "      <td>79.0</td>\n",
       "      <td>86.75</td>\n",
       "      <td>99.0</td>\n",
       "    </tr>\n",
       "    <tr>\n",
       "      <th>None</th>\n",
       "      <td>140.0</td>\n",
       "      <td>65.842857</td>\n",
       "      <td>13.678882</td>\n",
       "      <td>35.0</td>\n",
       "      <td>56.00</td>\n",
       "      <td>67.0</td>\n",
       "      <td>74.00</td>\n",
       "      <td>100.0</td>\n",
       "    </tr>\n",
       "    <tr>\n",
       "      <th rowspan=\"2\" valign=\"top\">Bachelor's Degree</th>\n",
       "      <th>Completed</th>\n",
       "      <td>46.0</td>\n",
       "      <td>78.695652</td>\n",
       "      <td>13.283021</td>\n",
       "      <td>38.0</td>\n",
       "      <td>70.25</td>\n",
       "      <td>79.5</td>\n",
       "      <td>87.75</td>\n",
       "      <td>100.0</td>\n",
       "    </tr>\n",
       "    <tr>\n",
       "      <th>None</th>\n",
       "      <td>72.0</td>\n",
       "      <td>69.986111</td>\n",
       "      <td>14.684948</td>\n",
       "      <td>38.0</td>\n",
       "      <td>60.50</td>\n",
       "      <td>70.0</td>\n",
       "      <td>81.00</td>\n",
       "      <td>100.0</td>\n",
       "    </tr>\n",
       "    <tr>\n",
       "      <th rowspan=\"2\" valign=\"top\">Master's Degree</th>\n",
       "      <th>Completed</th>\n",
       "      <td>20.0</td>\n",
       "      <td>80.100000</td>\n",
       "      <td>13.606887</td>\n",
       "      <td>46.0</td>\n",
       "      <td>73.50</td>\n",
       "      <td>79.5</td>\n",
       "      <td>90.25</td>\n",
       "      <td>100.0</td>\n",
       "    </tr>\n",
       "    <tr>\n",
       "      <th>None</th>\n",
       "      <td>39.0</td>\n",
       "      <td>73.410256</td>\n",
       "      <td>13.402117</td>\n",
       "      <td>50.0</td>\n",
       "      <td>65.50</td>\n",
       "      <td>72.0</td>\n",
       "      <td>84.00</td>\n",
       "      <td>100.0</td>\n",
       "    </tr>\n",
       "  </tbody>\n",
       "</table>\n",
       "</div>"
      ],
      "text/plain": [
       "                              count       mean        std   min    25%   50%  \\\n",
       "educations         test_prep                                                   \n",
       "Some High School   Completed   77.0  70.363636  13.480892  40.0  60.00  72.0   \n",
       "                   None       102.0  60.754902  16.110655  10.0  51.00  61.0   \n",
       "High School        Completed   56.0  68.053571  13.191484  36.0  59.50  68.0   \n",
       "                   None       140.0  60.207143  13.848355  15.0  51.00  62.0   \n",
       "Some College       Completed   77.0  76.519481  11.566297  51.0  70.00  77.0   \n",
       "                   None       149.0  64.872483  15.079648  19.0  56.00  66.0   \n",
       "Associate's Degree Completed   82.0  76.817073  12.681403  44.0  68.00  79.0   \n",
       "                   None       140.0  65.842857  13.678882  35.0  56.00  67.0   \n",
       "Bachelor's Degree  Completed   46.0  78.695652  13.283021  38.0  70.25  79.5   \n",
       "                   None        72.0  69.986111  14.684948  38.0  60.50  70.0   \n",
       "Master's Degree    Completed   20.0  80.100000  13.606887  46.0  73.50  79.5   \n",
       "                   None        39.0  73.410256  13.402117  50.0  65.50  72.0   \n",
       "\n",
       "                                75%    max  \n",
       "educations         test_prep                \n",
       "Some High School   Completed  79.00  100.0  \n",
       "                   None       74.50   96.0  \n",
       "High School        Completed  78.00  100.0  \n",
       "                   None       70.00   90.0  \n",
       "Some College       Completed  85.00   99.0  \n",
       "                   None       75.00   99.0  \n",
       "Associate's Degree Completed  86.75   99.0  \n",
       "                   None       74.00  100.0  \n",
       "Bachelor's Degree  Completed  87.75  100.0  \n",
       "                   None       81.00  100.0  \n",
       "Master's Degree    Completed  90.25  100.0  \n",
       "                   None       84.00  100.0  "
      ]
     },
     "execution_count": 96,
     "metadata": {},
     "output_type": "execute_result"
    }
   ],
   "source": [
    "df.groupby(['educations','test_prep'])['writing'].describe()  # getting statistical information"
   ]
  },
  {
   "cell_type": "code",
   "execution_count": 83,
   "metadata": {},
   "outputs": [
    {
     "data": {
      "text/plain": [
       "(array([0, 1, 2, 3, 4, 5]), <a list of 6 Text xticklabel objects>)"
      ]
     },
     "execution_count": 83,
     "metadata": {},
     "output_type": "execute_result"
    },
    {
     "data": {
      "image/png": "[encoded data removed]",
      "text/plain": [
       "<Figure size 450.125x360 with 1 Axes>"
      ]
     },
     "metadata": {
      "needs_background": "light"
     },
     "output_type": "display_data"
    }
   ],
   "source": [
    "sb.catplot(x=\"educations\", y=\"writing\", hue=\"test_prep\", kind=\"bar\", data=df) # plotting with seaborn cluster bar\n",
    "plt.title(\"Completed vs None in Writing\") # Set title\n",
    "plt.xticks(rotation=45) # rotation to avoid overlap"
   ]
  },
  {
   "cell_type": "markdown",
   "metadata": {},
   "source": [
    "In writing exam, people with some high school and high school performed same without preparation. People with higher education performed slighly higher without completed test preparation. But they made big differnece with test preparation."
   ]
  },
  {
   "cell_type": "markdown",
   "metadata": {},
   "source": [
    ">In this section, I am going to compare each gender test performance"
   ]
  },
  {
   "cell_type": "code",
   "execution_count": 22,
   "metadata": {},
   "outputs": [
    {
     "data": {
      "text/plain": [
       "Female    518\n",
       "Male      482\n",
       "Name: gender, dtype: int64"
      ]
     },
     "execution_count": 22,
     "metadata": {},
     "output_type": "execute_result"
    }
   ],
   "source": [
    "df.gender.value_counts() # count total female and male in population"
   ]
  },
  {
   "cell_type": "markdown",
   "metadata": {},
   "source": [
    "I am interested to find out which gender better perform in test score. I randomly draw 900 students is because if I used a whole population, it appeared females has more than males. 518-482=36. 36 difference will produce bias data in plots."
   ]
  },
  {
   "cell_type": "code",
   "execution_count": 27,
   "metadata": {
    "scrolled": false
   },
   "outputs": [],
   "source": [
    "sample=df.sample(900) # Obtaining sample from population"
   ]
  },
  {
   "cell_type": "code",
   "execution_count": 21,
   "metadata": {},
   "outputs": [
    {
     "data": {
      "text/plain": [
       "Female    454\n",
       "Male      446\n",
       "Name: gender, dtype: int64"
      ]
     },
     "execution_count": 21,
     "metadata": {},
     "output_type": "execute_result"
    }
   ],
   "source": [
    "sample.gender.value_counts() # total each gender in sample"
   ]
  },
  {
   "cell_type": "markdown",
   "metadata": {},
   "source": [
    "Now sample draw 454-446=8 difference."
   ]
  },
  {
   "cell_type": "markdown",
   "metadata": {},
   "source": [
    "Re-arrange categorical orders"
   ]
  },
  {
   "cell_type": "code",
   "execution_count": 28,
   "metadata": {},
   "outputs": [],
   "source": [
    "\n",
    "educat = ['Some High School','High School','Some College',\"Associate's Degree\",\"Bachelor's Degree\",\"Master's Degree\"]\n",
    "pd_ver = pd.__version__.split(\".\")\n",
    "if (int(pd_ver[0]) > 0) or (int(pd_ver[1]) >= 21): # v0.21 or later\n",
    "        educ = pd.api.types.CategoricalDtype(ordered = True, categories = educat)\n",
    "        sample['educations'] = sample['educations'].astype(educ)\n",
    "else: # compatibility for v.20\n",
    "        sample['educations'] = sample['educations'].astype('category', ordered = True,\n",
    "                                                         categories = educat)"
   ]
  },
  {
   "cell_type": "code",
   "execution_count": 97,
   "metadata": {},
   "outputs": [
    {
     "data": {
      "text/html": [
       "<div>\n",
       "<style scoped>\n",
       "    .dataframe tbody tr th:only-of-type {\n",
       "        vertical-align: middle;\n",
       "    }\n",
       "\n",
       "    .dataframe tbody tr th {\n",
       "        vertical-align: top;\n",
       "    }\n",
       "\n",
       "    .dataframe thead th {\n",
       "        text-align: right;\n",
       "    }\n",
       "</style>\n",
       "<table border=\"1\" class=\"dataframe\">\n",
       "  <thead>\n",
       "    <tr style=\"text-align: right;\">\n",
       "      <th></th>\n",
       "      <th></th>\n",
       "      <th>count</th>\n",
       "      <th>mean</th>\n",
       "      <th>std</th>\n",
       "      <th>min</th>\n",
       "      <th>25%</th>\n",
       "      <th>50%</th>\n",
       "      <th>75%</th>\n",
       "      <th>max</th>\n",
       "    </tr>\n",
       "    <tr>\n",
       "      <th>educations</th>\n",
       "      <th>gender</th>\n",
       "      <th></th>\n",
       "      <th></th>\n",
       "      <th></th>\n",
       "      <th></th>\n",
       "      <th></th>\n",
       "      <th></th>\n",
       "      <th></th>\n",
       "      <th></th>\n",
       "    </tr>\n",
       "  </thead>\n",
       "  <tbody>\n",
       "    <tr>\n",
       "      <th rowspan=\"2\" valign=\"top\">Some High School</th>\n",
       "      <th>Female</th>\n",
       "      <td>82.0</td>\n",
       "      <td>70.646341</td>\n",
       "      <td>15.184765</td>\n",
       "      <td>32.0</td>\n",
       "      <td>60.00</td>\n",
       "      <td>72.0</td>\n",
       "      <td>82.00</td>\n",
       "      <td>100.0</td>\n",
       "    </tr>\n",
       "    <tr>\n",
       "      <th>Male</th>\n",
       "      <td>76.0</td>\n",
       "      <td>65.289474</td>\n",
       "      <td>13.995062</td>\n",
       "      <td>26.0</td>\n",
       "      <td>55.50</td>\n",
       "      <td>66.0</td>\n",
       "      <td>74.25</td>\n",
       "      <td>88.0</td>\n",
       "    </tr>\n",
       "    <tr>\n",
       "      <th rowspan=\"2\" valign=\"top\">High School</th>\n",
       "      <th>Female</th>\n",
       "      <td>87.0</td>\n",
       "      <td>67.528736</td>\n",
       "      <td>14.291678</td>\n",
       "      <td>24.0</td>\n",
       "      <td>59.50</td>\n",
       "      <td>68.0</td>\n",
       "      <td>76.50</td>\n",
       "      <td>99.0</td>\n",
       "    </tr>\n",
       "    <tr>\n",
       "      <th>Male</th>\n",
       "      <td>95.0</td>\n",
       "      <td>61.484211</td>\n",
       "      <td>13.708099</td>\n",
       "      <td>24.0</td>\n",
       "      <td>52.00</td>\n",
       "      <td>62.0</td>\n",
       "      <td>72.50</td>\n",
       "      <td>91.0</td>\n",
       "    </tr>\n",
       "    <tr>\n",
       "      <th rowspan=\"2\" valign=\"top\">Some College</th>\n",
       "      <th>Female</th>\n",
       "      <td>105.0</td>\n",
       "      <td>73.152381</td>\n",
       "      <td>12.233137</td>\n",
       "      <td>38.0</td>\n",
       "      <td>65.00</td>\n",
       "      <td>73.0</td>\n",
       "      <td>82.00</td>\n",
       "      <td>100.0</td>\n",
       "    </tr>\n",
       "    <tr>\n",
       "      <th>Male</th>\n",
       "      <td>100.0</td>\n",
       "      <td>65.330000</td>\n",
       "      <td>14.563726</td>\n",
       "      <td>23.0</td>\n",
       "      <td>57.00</td>\n",
       "      <td>63.5</td>\n",
       "      <td>77.00</td>\n",
       "      <td>97.0</td>\n",
       "    </tr>\n",
       "    <tr>\n",
       "      <th rowspan=\"2\" valign=\"top\">Associate's Degree</th>\n",
       "      <th>Female</th>\n",
       "      <td>102.0</td>\n",
       "      <td>74.205882</td>\n",
       "      <td>13.280178</td>\n",
       "      <td>31.0</td>\n",
       "      <td>64.25</td>\n",
       "      <td>76.0</td>\n",
       "      <td>84.75</td>\n",
       "      <td>100.0</td>\n",
       "    </tr>\n",
       "    <tr>\n",
       "      <th>Male</th>\n",
       "      <td>95.0</td>\n",
       "      <td>67.421053</td>\n",
       "      <td>13.753591</td>\n",
       "      <td>37.0</td>\n",
       "      <td>56.00</td>\n",
       "      <td>68.0</td>\n",
       "      <td>77.00</td>\n",
       "      <td>100.0</td>\n",
       "    </tr>\n",
       "    <tr>\n",
       "      <th rowspan=\"2\" valign=\"top\">Bachelor's Degree</th>\n",
       "      <th>Female</th>\n",
       "      <td>52.0</td>\n",
       "      <td>77.153846</td>\n",
       "      <td>14.429524</td>\n",
       "      <td>41.0</td>\n",
       "      <td>69.75</td>\n",
       "      <td>76.5</td>\n",
       "      <td>86.50</td>\n",
       "      <td>100.0</td>\n",
       "    </tr>\n",
       "    <tr>\n",
       "      <th>Male</th>\n",
       "      <td>51.0</td>\n",
       "      <td>68.078431</td>\n",
       "      <td>13.061153</td>\n",
       "      <td>42.0</td>\n",
       "      <td>59.50</td>\n",
       "      <td>67.0</td>\n",
       "      <td>75.00</td>\n",
       "      <td>100.0</td>\n",
       "    </tr>\n",
       "    <tr>\n",
       "      <th rowspan=\"2\" valign=\"top\">Master's Degree</th>\n",
       "      <th>Female</th>\n",
       "      <td>34.0</td>\n",
       "      <td>76.911765</td>\n",
       "      <td>15.023956</td>\n",
       "      <td>53.0</td>\n",
       "      <td>64.25</td>\n",
       "      <td>74.0</td>\n",
       "      <td>91.00</td>\n",
       "      <td>100.0</td>\n",
       "    </tr>\n",
       "    <tr>\n",
       "      <th>Male</th>\n",
       "      <td>21.0</td>\n",
       "      <td>74.285714</td>\n",
       "      <td>10.184021</td>\n",
       "      <td>53.0</td>\n",
       "      <td>67.00</td>\n",
       "      <td>77.0</td>\n",
       "      <td>82.00</td>\n",
       "      <td>89.0</td>\n",
       "    </tr>\n",
       "  </tbody>\n",
       "</table>\n",
       "</div>"
      ],
      "text/plain": [
       "                           count       mean        std   min    25%   50%  \\\n",
       "educations         gender                                                   \n",
       "Some High School   Female   82.0  70.646341  15.184765  32.0  60.00  72.0   \n",
       "                   Male     76.0  65.289474  13.995062  26.0  55.50  66.0   \n",
       "High School        Female   87.0  67.528736  14.291678  24.0  59.50  68.0   \n",
       "                   Male     95.0  61.484211  13.708099  24.0  52.00  62.0   \n",
       "Some College       Female  105.0  73.152381  12.233137  38.0  65.00  73.0   \n",
       "                   Male    100.0  65.330000  14.563726  23.0  57.00  63.5   \n",
       "Associate's Degree Female  102.0  74.205882  13.280178  31.0  64.25  76.0   \n",
       "                   Male     95.0  67.421053  13.753591  37.0  56.00  68.0   \n",
       "Bachelor's Degree  Female   52.0  77.153846  14.429524  41.0  69.75  76.5   \n",
       "                   Male     51.0  68.078431  13.061153  42.0  59.50  67.0   \n",
       "Master's Degree    Female   34.0  76.911765  15.023956  53.0  64.25  74.0   \n",
       "                   Male     21.0  74.285714  10.184021  53.0  67.00  77.0   \n",
       "\n",
       "                             75%    max  \n",
       "educations         gender                \n",
       "Some High School   Female  82.00  100.0  \n",
       "                   Male    74.25   88.0  \n",
       "High School        Female  76.50   99.0  \n",
       "                   Male    72.50   91.0  \n",
       "Some College       Female  82.00  100.0  \n",
       "                   Male    77.00   97.0  \n",
       "Associate's Degree Female  84.75  100.0  \n",
       "                   Male    77.00  100.0  \n",
       "Bachelor's Degree  Female  86.50  100.0  \n",
       "                   Male    75.00  100.0  \n",
       "Master's Degree    Female  91.00  100.0  \n",
       "                   Male    82.00   89.0  "
      ]
     },
     "execution_count": 97,
     "metadata": {},
     "output_type": "execute_result"
    }
   ],
   "source": [
    "sample.groupby(['educations','gender'])['reading'].describe() # Getting statistical information"
   ]
  },
  {
   "cell_type": "markdown",
   "metadata": {},
   "source": [
    "I use gender's educational level in reading."
   ]
  },
  {
   "cell_type": "code",
   "execution_count": 29,
   "metadata": {},
   "outputs": [
    {
     "data": {
      "text/plain": [
       "Text(0.5,1,'Males vs Females in Reading')"
      ]
     },
     "execution_count": 29,
     "metadata": {},
     "output_type": "execute_result"
    },
    {
     "data": {
      "image/png": "[encoded data removed]",
      "text/plain": [
       "<Figure size 432.625x360 with 1 Axes>"
      ]
     },
     "metadata": {
      "needs_background": "light"
     },
     "output_type": "display_data"
    }
   ],
   "source": [
    "sb.catplot(x=\"educations\", y=\"reading\", hue=\"gender\", kind=\"bar\", data=sample) #Plot with clusterbar\n",
    "plt.xticks(rotation=45) #set rotation\n",
    "plt.title(\"Males vs Females in Reading\") # set title"
   ]
  },
  {
   "cell_type": "markdown",
   "metadata": {},
   "source": [
    "The plot shows females performed better than male in reading overall. Male in some high school did better than males in high school. "
   ]
  },
  {
   "cell_type": "markdown",
   "metadata": {},
   "source": []
  },
  {
   "cell_type": "code",
   "execution_count": 98,
   "metadata": {},
   "outputs": [
    {
     "data": {
      "text/html": [
       "<div>\n",
       "<style scoped>\n",
       "    .dataframe tbody tr th:only-of-type {\n",
       "        vertical-align: middle;\n",
       "    }\n",
       "\n",
       "    .dataframe tbody tr th {\n",
       "        vertical-align: top;\n",
       "    }\n",
       "\n",
       "    .dataframe thead th {\n",
       "        text-align: right;\n",
       "    }\n",
       "</style>\n",
       "<table border=\"1\" class=\"dataframe\">\n",
       "  <thead>\n",
       "    <tr style=\"text-align: right;\">\n",
       "      <th></th>\n",
       "      <th></th>\n",
       "      <th>count</th>\n",
       "      <th>mean</th>\n",
       "      <th>std</th>\n",
       "      <th>min</th>\n",
       "      <th>25%</th>\n",
       "      <th>50%</th>\n",
       "      <th>75%</th>\n",
       "      <th>max</th>\n",
       "    </tr>\n",
       "    <tr>\n",
       "      <th>educations</th>\n",
       "      <th>gender</th>\n",
       "      <th></th>\n",
       "      <th></th>\n",
       "      <th></th>\n",
       "      <th></th>\n",
       "      <th></th>\n",
       "      <th></th>\n",
       "      <th></th>\n",
       "      <th></th>\n",
       "    </tr>\n",
       "  </thead>\n",
       "  <tbody>\n",
       "    <tr>\n",
       "      <th rowspan=\"2\" valign=\"top\">Some High School</th>\n",
       "      <th>Female</th>\n",
       "      <td>82.0</td>\n",
       "      <td>69.963415</td>\n",
       "      <td>15.443601</td>\n",
       "      <td>27.0</td>\n",
       "      <td>59.25</td>\n",
       "      <td>72.5</td>\n",
       "      <td>80.75</td>\n",
       "      <td>100.0</td>\n",
       "    </tr>\n",
       "    <tr>\n",
       "      <th>Male</th>\n",
       "      <td>76.0</td>\n",
       "      <td>61.723684</td>\n",
       "      <td>13.642677</td>\n",
       "      <td>22.0</td>\n",
       "      <td>53.00</td>\n",
       "      <td>62.0</td>\n",
       "      <td>73.00</td>\n",
       "      <td>87.0</td>\n",
       "    </tr>\n",
       "    <tr>\n",
       "      <th rowspan=\"2\" valign=\"top\">High School</th>\n",
       "      <th>Female</th>\n",
       "      <td>87.0</td>\n",
       "      <td>66.183908</td>\n",
       "      <td>14.655366</td>\n",
       "      <td>23.0</td>\n",
       "      <td>58.50</td>\n",
       "      <td>68.0</td>\n",
       "      <td>76.00</td>\n",
       "      <td>100.0</td>\n",
       "    </tr>\n",
       "    <tr>\n",
       "      <th>Male</th>\n",
       "      <td>95.0</td>\n",
       "      <td>58.610526</td>\n",
       "      <td>12.876909</td>\n",
       "      <td>15.0</td>\n",
       "      <td>50.00</td>\n",
       "      <td>59.0</td>\n",
       "      <td>68.00</td>\n",
       "      <td>86.0</td>\n",
       "    </tr>\n",
       "    <tr>\n",
       "      <th rowspan=\"2\" valign=\"top\">Some College</th>\n",
       "      <th>Female</th>\n",
       "      <td>105.0</td>\n",
       "      <td>73.695238</td>\n",
       "      <td>13.113501</td>\n",
       "      <td>32.0</td>\n",
       "      <td>66.00</td>\n",
       "      <td>74.0</td>\n",
       "      <td>82.00</td>\n",
       "      <td>99.0</td>\n",
       "    </tr>\n",
       "    <tr>\n",
       "      <th>Male</th>\n",
       "      <td>100.0</td>\n",
       "      <td>63.290000</td>\n",
       "      <td>14.968178</td>\n",
       "      <td>19.0</td>\n",
       "      <td>54.00</td>\n",
       "      <td>62.5</td>\n",
       "      <td>74.00</td>\n",
       "      <td>99.0</td>\n",
       "    </tr>\n",
       "    <tr>\n",
       "      <th rowspan=\"2\" valign=\"top\">Associate's Degree</th>\n",
       "      <th>Female</th>\n",
       "      <td>102.0</td>\n",
       "      <td>73.990196</td>\n",
       "      <td>13.387962</td>\n",
       "      <td>38.0</td>\n",
       "      <td>65.00</td>\n",
       "      <td>74.0</td>\n",
       "      <td>84.00</td>\n",
       "      <td>100.0</td>\n",
       "    </tr>\n",
       "    <tr>\n",
       "      <th>Male</th>\n",
       "      <td>95.0</td>\n",
       "      <td>65.452632</td>\n",
       "      <td>14.005902</td>\n",
       "      <td>35.0</td>\n",
       "      <td>54.50</td>\n",
       "      <td>66.0</td>\n",
       "      <td>77.00</td>\n",
       "      <td>95.0</td>\n",
       "    </tr>\n",
       "    <tr>\n",
       "      <th rowspan=\"2\" valign=\"top\">Bachelor's Degree</th>\n",
       "      <th>Female</th>\n",
       "      <td>52.0</td>\n",
       "      <td>78.211538</td>\n",
       "      <td>14.038234</td>\n",
       "      <td>38.0</td>\n",
       "      <td>70.00</td>\n",
       "      <td>79.5</td>\n",
       "      <td>87.00</td>\n",
       "      <td>100.0</td>\n",
       "    </tr>\n",
       "    <tr>\n",
       "      <th>Male</th>\n",
       "      <td>51.0</td>\n",
       "      <td>67.666667</td>\n",
       "      <td>14.199531</td>\n",
       "      <td>38.0</td>\n",
       "      <td>57.00</td>\n",
       "      <td>68.0</td>\n",
       "      <td>76.00</td>\n",
       "      <td>100.0</td>\n",
       "    </tr>\n",
       "    <tr>\n",
       "      <th rowspan=\"2\" valign=\"top\">Master's Degree</th>\n",
       "      <th>Female</th>\n",
       "      <td>34.0</td>\n",
       "      <td>77.676471</td>\n",
       "      <td>14.788859</td>\n",
       "      <td>54.0</td>\n",
       "      <td>66.25</td>\n",
       "      <td>76.5</td>\n",
       "      <td>91.00</td>\n",
       "      <td>100.0</td>\n",
       "    </tr>\n",
       "    <tr>\n",
       "      <th>Male</th>\n",
       "      <td>21.0</td>\n",
       "      <td>73.904762</td>\n",
       "      <td>10.995021</td>\n",
       "      <td>50.0</td>\n",
       "      <td>69.00</td>\n",
       "      <td>75.0</td>\n",
       "      <td>84.00</td>\n",
       "      <td>90.0</td>\n",
       "    </tr>\n",
       "  </tbody>\n",
       "</table>\n",
       "</div>"
      ],
      "text/plain": [
       "                           count       mean        std   min    25%   50%  \\\n",
       "educations         gender                                                   \n",
       "Some High School   Female   82.0  69.963415  15.443601  27.0  59.25  72.5   \n",
       "                   Male     76.0  61.723684  13.642677  22.0  53.00  62.0   \n",
       "High School        Female   87.0  66.183908  14.655366  23.0  58.50  68.0   \n",
       "                   Male     95.0  58.610526  12.876909  15.0  50.00  59.0   \n",
       "Some College       Female  105.0  73.695238  13.113501  32.0  66.00  74.0   \n",
       "                   Male    100.0  63.290000  14.968178  19.0  54.00  62.5   \n",
       "Associate's Degree Female  102.0  73.990196  13.387962  38.0  65.00  74.0   \n",
       "                   Male     95.0  65.452632  14.005902  35.0  54.50  66.0   \n",
       "Bachelor's Degree  Female   52.0  78.211538  14.038234  38.0  70.00  79.5   \n",
       "                   Male     51.0  67.666667  14.199531  38.0  57.00  68.0   \n",
       "Master's Degree    Female   34.0  77.676471  14.788859  54.0  66.25  76.5   \n",
       "                   Male     21.0  73.904762  10.995021  50.0  69.00  75.0   \n",
       "\n",
       "                             75%    max  \n",
       "educations         gender                \n",
       "Some High School   Female  80.75  100.0  \n",
       "                   Male    73.00   87.0  \n",
       "High School        Female  76.00  100.0  \n",
       "                   Male    68.00   86.0  \n",
       "Some College       Female  82.00   99.0  \n",
       "                   Male    74.00   99.0  \n",
       "Associate's Degree Female  84.00  100.0  \n",
       "                   Male    77.00   95.0  \n",
       "Bachelor's Degree  Female  87.00  100.0  \n",
       "                   Male    76.00  100.0  \n",
       "Master's Degree    Female  91.00  100.0  \n",
       "                   Male    84.00   90.0  "
      ]
     },
     "execution_count": 98,
     "metadata": {},
     "output_type": "execute_result"
    }
   ],
   "source": [
    "sample.groupby(['educations','gender'])['writing'].describe() # getting statistcial information"
   ]
  },
  {
   "cell_type": "markdown",
   "metadata": {},
   "source": [
    "male vs female in writing with all educational levels."
   ]
  },
  {
   "cell_type": "code",
   "execution_count": 30,
   "metadata": {},
   "outputs": [
    {
     "data": {
      "text/plain": [
       "Text(0.5,1,'Males vs Females in Writing')"
      ]
     },
     "execution_count": 30,
     "metadata": {},
     "output_type": "execute_result"
    },
    {
     "data": {
      "image/png": "[encoded data removed]",
      "text/plain": [
       "<Figure size 432.625x360 with 1 Axes>"
      ]
     },
     "metadata": {
      "needs_background": "light"
     },
     "output_type": "display_data"
    }
   ],
   "source": [
    "sb.catplot(x=\"educations\", y=\"writing\", hue=\"gender\", kind=\"bar\", data=sample)\n",
    "plt.xticks(rotation=45)\n",
    "plt.title(\"Males vs Females in Writing\")"
   ]
  },
  {
   "cell_type": "markdown",
   "metadata": {},
   "source": [
    "Same in reading, females performed better than males. Males in some high school had higher score than male with high school."
   ]
  },
  {
   "cell_type": "markdown",
   "metadata": {},
   "source": [
    "Males vs females in math test with all educational level\n"
   ]
  },
  {
   "cell_type": "code",
   "execution_count": 99,
   "metadata": {},
   "outputs": [
    {
     "data": {
      "text/html": [
       "<div>\n",
       "<style scoped>\n",
       "    .dataframe tbody tr th:only-of-type {\n",
       "        vertical-align: middle;\n",
       "    }\n",
       "\n",
       "    .dataframe tbody tr th {\n",
       "        vertical-align: top;\n",
       "    }\n",
       "\n",
       "    .dataframe thead th {\n",
       "        text-align: right;\n",
       "    }\n",
       "</style>\n",
       "<table border=\"1\" class=\"dataframe\">\n",
       "  <thead>\n",
       "    <tr style=\"text-align: right;\">\n",
       "      <th></th>\n",
       "      <th></th>\n",
       "      <th>count</th>\n",
       "      <th>mean</th>\n",
       "      <th>std</th>\n",
       "      <th>min</th>\n",
       "      <th>25%</th>\n",
       "      <th>50%</th>\n",
       "      <th>75%</th>\n",
       "      <th>max</th>\n",
       "    </tr>\n",
       "    <tr>\n",
       "      <th>educations</th>\n",
       "      <th>gender</th>\n",
       "      <th></th>\n",
       "      <th></th>\n",
       "      <th></th>\n",
       "      <th></th>\n",
       "      <th></th>\n",
       "      <th></th>\n",
       "      <th></th>\n",
       "      <th></th>\n",
       "    </tr>\n",
       "  </thead>\n",
       "  <tbody>\n",
       "    <tr>\n",
       "      <th rowspan=\"2\" valign=\"top\">Some High School</th>\n",
       "      <th>Female</th>\n",
       "      <td>82.0</td>\n",
       "      <td>61.048780</td>\n",
       "      <td>15.415963</td>\n",
       "      <td>18.0</td>\n",
       "      <td>49.25</td>\n",
       "      <td>63.5</td>\n",
       "      <td>72.00</td>\n",
       "      <td>97.0</td>\n",
       "    </tr>\n",
       "    <tr>\n",
       "      <th>Male</th>\n",
       "      <td>76.0</td>\n",
       "      <td>68.486842</td>\n",
       "      <td>13.672838</td>\n",
       "      <td>30.0</td>\n",
       "      <td>59.75</td>\n",
       "      <td>68.0</td>\n",
       "      <td>78.25</td>\n",
       "      <td>94.0</td>\n",
       "    </tr>\n",
       "    <tr>\n",
       "      <th rowspan=\"2\" valign=\"top\">High School</th>\n",
       "      <th>Female</th>\n",
       "      <td>87.0</td>\n",
       "      <td>58.988506</td>\n",
       "      <td>15.426114</td>\n",
       "      <td>8.0</td>\n",
       "      <td>50.00</td>\n",
       "      <td>61.0</td>\n",
       "      <td>69.00</td>\n",
       "      <td>99.0</td>\n",
       "    </tr>\n",
       "    <tr>\n",
       "      <th>Male</th>\n",
       "      <td>95.0</td>\n",
       "      <td>64.778947</td>\n",
       "      <td>13.590656</td>\n",
       "      <td>27.0</td>\n",
       "      <td>57.00</td>\n",
       "      <td>66.0</td>\n",
       "      <td>73.00</td>\n",
       "      <td>94.0</td>\n",
       "    </tr>\n",
       "    <tr>\n",
       "      <th rowspan=\"2\" valign=\"top\">Some College</th>\n",
       "      <th>Female</th>\n",
       "      <td>105.0</td>\n",
       "      <td>64.628571</td>\n",
       "      <td>13.294199</td>\n",
       "      <td>19.0</td>\n",
       "      <td>58.00</td>\n",
       "      <td>64.0</td>\n",
       "      <td>73.00</td>\n",
       "      <td>98.0</td>\n",
       "    </tr>\n",
       "    <tr>\n",
       "      <th>Male</th>\n",
       "      <td>100.0</td>\n",
       "      <td>68.890000</td>\n",
       "      <td>15.023816</td>\n",
       "      <td>28.0</td>\n",
       "      <td>59.00</td>\n",
       "      <td>69.0</td>\n",
       "      <td>79.00</td>\n",
       "      <td>100.0</td>\n",
       "    </tr>\n",
       "    <tr>\n",
       "      <th rowspan=\"2\" valign=\"top\">Associate's Degree</th>\n",
       "      <th>Female</th>\n",
       "      <td>102.0</td>\n",
       "      <td>64.843137</td>\n",
       "      <td>15.070623</td>\n",
       "      <td>26.0</td>\n",
       "      <td>54.00</td>\n",
       "      <td>64.5</td>\n",
       "      <td>75.75</td>\n",
       "      <td>100.0</td>\n",
       "    </tr>\n",
       "    <tr>\n",
       "      <th>Male</th>\n",
       "      <td>95.0</td>\n",
       "      <td>70.600000</td>\n",
       "      <td>14.551011</td>\n",
       "      <td>40.0</td>\n",
       "      <td>61.00</td>\n",
       "      <td>72.0</td>\n",
       "      <td>81.00</td>\n",
       "      <td>100.0</td>\n",
       "    </tr>\n",
       "    <tr>\n",
       "      <th rowspan=\"2\" valign=\"top\">Bachelor's Degree</th>\n",
       "      <th>Female</th>\n",
       "      <td>52.0</td>\n",
       "      <td>67.961538</td>\n",
       "      <td>16.408942</td>\n",
       "      <td>29.0</td>\n",
       "      <td>60.50</td>\n",
       "      <td>66.0</td>\n",
       "      <td>78.25</td>\n",
       "      <td>100.0</td>\n",
       "    </tr>\n",
       "    <tr>\n",
       "      <th>Male</th>\n",
       "      <td>51.0</td>\n",
       "      <td>70.882353</td>\n",
       "      <td>14.367529</td>\n",
       "      <td>37.0</td>\n",
       "      <td>62.00</td>\n",
       "      <td>70.0</td>\n",
       "      <td>82.50</td>\n",
       "      <td>100.0</td>\n",
       "    </tr>\n",
       "    <tr>\n",
       "      <th rowspan=\"2\" valign=\"top\">Master's Degree</th>\n",
       "      <th>Female</th>\n",
       "      <td>34.0</td>\n",
       "      <td>66.441176</td>\n",
       "      <td>15.694414</td>\n",
       "      <td>40.0</td>\n",
       "      <td>53.25</td>\n",
       "      <td>64.5</td>\n",
       "      <td>77.75</td>\n",
       "      <td>94.0</td>\n",
       "    </tr>\n",
       "    <tr>\n",
       "      <th>Male</th>\n",
       "      <td>21.0</td>\n",
       "      <td>75.952381</td>\n",
       "      <td>12.179804</td>\n",
       "      <td>49.0</td>\n",
       "      <td>71.00</td>\n",
       "      <td>79.0</td>\n",
       "      <td>84.00</td>\n",
       "      <td>95.0</td>\n",
       "    </tr>\n",
       "  </tbody>\n",
       "</table>\n",
       "</div>"
      ],
      "text/plain": [
       "                           count       mean        std   min    25%   50%  \\\n",
       "educations         gender                                                   \n",
       "Some High School   Female   82.0  61.048780  15.415963  18.0  49.25  63.5   \n",
       "                   Male     76.0  68.486842  13.672838  30.0  59.75  68.0   \n",
       "High School        Female   87.0  58.988506  15.426114   8.0  50.00  61.0   \n",
       "                   Male     95.0  64.778947  13.590656  27.0  57.00  66.0   \n",
       "Some College       Female  105.0  64.628571  13.294199  19.0  58.00  64.0   \n",
       "                   Male    100.0  68.890000  15.023816  28.0  59.00  69.0   \n",
       "Associate's Degree Female  102.0  64.843137  15.070623  26.0  54.00  64.5   \n",
       "                   Male     95.0  70.600000  14.551011  40.0  61.00  72.0   \n",
       "Bachelor's Degree  Female   52.0  67.961538  16.408942  29.0  60.50  66.0   \n",
       "                   Male     51.0  70.882353  14.367529  37.0  62.00  70.0   \n",
       "Master's Degree    Female   34.0  66.441176  15.694414  40.0  53.25  64.5   \n",
       "                   Male     21.0  75.952381  12.179804  49.0  71.00  79.0   \n",
       "\n",
       "                             75%    max  \n",
       "educations         gender                \n",
       "Some High School   Female  72.00   97.0  \n",
       "                   Male    78.25   94.0  \n",
       "High School        Female  69.00   99.0  \n",
       "                   Male    73.00   94.0  \n",
       "Some College       Female  73.00   98.0  \n",
       "                   Male    79.00  100.0  \n",
       "Associate's Degree Female  75.75  100.0  \n",
       "                   Male    81.00  100.0  \n",
       "Bachelor's Degree  Female  78.25  100.0  \n",
       "                   Male    82.50  100.0  \n",
       "Master's Degree    Female  77.75   94.0  \n",
       "                   Male    84.00   95.0  "
      ]
     },
     "execution_count": 99,
     "metadata": {},
     "output_type": "execute_result"
    }
   ],
   "source": [
    "sample.groupby(['educations','gender'])['math'].describe() # Getting statistical information"
   ]
  },
  {
   "cell_type": "code",
   "execution_count": 31,
   "metadata": {},
   "outputs": [
    {
     "data": {
      "text/plain": [
       "Text(0.5,1,'Males vs Females in Math')"
      ]
     },
     "execution_count": 31,
     "metadata": {},
     "output_type": "execute_result"
    },
    {
     "data": {
      "image/png": "[encoded data removed]",
      "text/plain": [
       "<Figure size 432.625x360 with 1 Axes>"
      ]
     },
     "metadata": {
      "needs_background": "light"
     },
     "output_type": "display_data"
    }
   ],
   "source": [
    "sb.catplot(x=\"educations\", y=\"math\", hue=\"gender\", kind=\"bar\", data=sample) # Use seaborn clusterbar\n",
    "plt.xticks(rotation=45) # set rotation avoid overlap\n",
    "plt.title(\"Males vs Females in Math\") # set title"
   ]
  },
  {
   "cell_type": "markdown",
   "metadata": {},
   "source": [
    "In math test, plot shows males scored higher than females in all levels. Females with some high school performed better than females with high school graduated. There is big difference between each gender in master's degree. "
   ]
  },
  {
   "cell_type": "markdown",
   "metadata": {},
   "source": [
    "### Talk about some of the relationships you observed in this part of the investigation. Were there features that strengthened each other in terms of looking at your feature(s) of interest?\n",
    "\n",
    "> General speaking,higher education with test preparation course scored higher than in non-college levels. However, it didn't prove in all level. for example, test takers some high school did better than high school in all three tests if some high schoolers took test preparation. Also there is not much difference between some college and assoicate's degree who took test preparation. \n",
    "\n",
    "### Were there any interesting or surprising interactions between features?\n",
    "\n",
    "Female students performed better in reading and writing than male students. However, male students scored higher in math than female students. "
   ]
  },
  {
   "cell_type": "markdown",
   "metadata": {},
   "source": [
    "> At the end of your report, make sure that you export the notebook as an\n",
    "html file from the `File > Download as... > HTML` menu. Make sure you keep\n",
    "track of where the exported file goes, so you can put it in the same folder\n",
    "as this notebook for project submission. Also, make sure you remove all of\n",
    "the quote-formatted guide notes like this one before you finish your report!"
   ]
  },
  {
   "cell_type": "code",
   "execution_count": null,
   "metadata": {},
   "outputs": [],
   "source": []
  }
 ],
 "metadata": {
  "kernelspec": {
   "display_name": "Python 3",
   "language": "python",
   "name": "python3"
  },
  "language_info": {
   "codemirror_mode": {
    "name": "ipython",
    "version": 3
   },
   "file_extension": ".py",
   "mimetype": "text/x-python",
   "name": "python",
   "nbconvert_exporter": "python",
   "pygments_lexer": "ipython3",
   "version": "3.7.3"
  }
 },
 "nbformat": 4,
 "nbformat_minor": 2
}
